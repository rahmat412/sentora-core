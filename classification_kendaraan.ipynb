{
  "nbformat": 4,
  "nbformat_minor": 0,
  "metadata": {
    "kernelspec": {
      "display_name": "Python 3.8.2 32-bit",
      "name": "python38232bit752dcacb72a44e6bb49a7d3fb113aa4b"
    },
    "language_info": {
      "codemirror_mode": {
        "name": "ipython",
        "version": 3
      },
      "file_extension": ".py",
      "mimetype": "text/x-python",
      "name": "python",
      "nbconvert_exporter": "python",
      "pygments_lexer": "ipython3",
      "version": "3.8.2"
    },
    "metadata": {
      "interpreter": {
        "hash": "13fdf25ef2beee923e1f1011635d38d6ce68fb2882c6a64f76de1420ab9cc9f4"
      }
    },
    "orig_nbformat": 2,
    "colab": {
      "name": "classification_kendaraan.ipynb",
      "provenance": [],
      "include_colab_link": true
    }
  },
  "cells": [
    {
      "cell_type": "markdown",
      "metadata": {
        "id": "view-in-github",
        "colab_type": "text"
      },
      "source": [
        "<a href=\"https://colab.research.google.com/github/rahmat412/sentora-core/blob/master/classification_kendaraan.ipynb\" target=\"_parent\"><img src=\"https://colab.research.google.com/assets/colab-badge.svg\" alt=\"Open In Colab\"/></a>"
      ]
    },
    {
      "cell_type": "markdown",
      "metadata": {
        "id": "hpPrLlHKCRBm"
      },
      "source": [
        "# Classification\n",
        "\n",
        "In this classification, there are 3 model that using for the classification.\n",
        "\n",
        "*  the first model is using naive bayes classifier\n",
        "*  the second model is using k-nearest neighbor classifier\n",
        "*  the third model is using decision tree classifier\n",
        "*  the preprocessing data that is use in every model is same, the difference only between the classifier\n",
        "\n",
        "The aim for this project is to define the difference accuracy between the models\n"
      ]
    },
    {
      "cell_type": "code",
      "metadata": {
        "id": "yVxpDRcKB305"
      },
      "source": [
        "import pandas as pd\n",
        "import numpy as np\n",
        "\n",
        "import matplotlib.pyplot as plt\n",
        "import seaborn as sns\n",
        "\n",
        "# Import module to standardize the scale(normalization)\n",
        "from sklearn.preprocessing import StandardScaler\n",
        "\n",
        "#import the classifier\n",
        "from sklearn.naive_bayes import GaussianNB\n",
        "from sklearn.tree import DecisionTreeClassifier\n",
        "from sklearn.neighbors import KNeighborsClassifier\n",
        "\n",
        "# Python script for confusion matrix creation. \n",
        "from sklearn.metrics import recall_score,precision_score,f1_score,accuracy_score, confusion_matrix, classification_report"
      ],
      "execution_count": 1,
      "outputs": []
    },
    {
      "cell_type": "markdown",
      "metadata": {
        "id": "ARSxYmurB30_"
      },
      "source": [
        "### Getting the basic understanding of the data\n"
      ]
    },
    {
      "cell_type": "code",
      "metadata": {
        "id": "66okZbi5B31A"
      },
      "source": [
        "df_train = pd.read_csv('kendaraan_train.csv')\n",
        "df_test = pd.read_csv('kendaraan_test.csv')"
      ],
      "execution_count": 2,
      "outputs": []
    },
    {
      "cell_type": "code",
      "metadata": {
        "colab": {
          "base_uri": "https://localhost:8080/",
          "height": 204
        },
        "id": "GR-5GE-2B31A",
        "outputId": "66b76d34-6735-4ef7-f7d5-1363effe5fc1"
      },
      "source": [
        "# concate the data for data exploration purpose\n",
        "frames = [df_train, df_test]\n",
        "df = pd.concat(frames).reset_index(drop=True)\n",
        "df.head()"
      ],
      "execution_count": 3,
      "outputs": [
        {
          "output_type": "execute_result",
          "data": {
            "text/html": [
              "<div>\n",
              "<style scoped>\n",
              "    .dataframe tbody tr th:only-of-type {\n",
              "        vertical-align: middle;\n",
              "    }\n",
              "\n",
              "    .dataframe tbody tr th {\n",
              "        vertical-align: top;\n",
              "    }\n",
              "\n",
              "    .dataframe thead th {\n",
              "        text-align: right;\n",
              "    }\n",
              "</style>\n",
              "<table border=\"1\" class=\"dataframe\">\n",
              "  <thead>\n",
              "    <tr style=\"text-align: right;\">\n",
              "      <th></th>\n",
              "      <th>id</th>\n",
              "      <th>Jenis_Kelamin</th>\n",
              "      <th>Umur</th>\n",
              "      <th>SIM</th>\n",
              "      <th>Kode_Daerah</th>\n",
              "      <th>Sudah_Asuransi</th>\n",
              "      <th>Umur_Kendaraan</th>\n",
              "      <th>Kendaraan_Rusak</th>\n",
              "      <th>Premi</th>\n",
              "      <th>Kanal_Penjualan</th>\n",
              "      <th>Lama_Berlangganan</th>\n",
              "      <th>Tertarik</th>\n",
              "    </tr>\n",
              "  </thead>\n",
              "  <tbody>\n",
              "    <tr>\n",
              "      <th>0</th>\n",
              "      <td>1.0</td>\n",
              "      <td>Wanita</td>\n",
              "      <td>30.0</td>\n",
              "      <td>1.0</td>\n",
              "      <td>33.0</td>\n",
              "      <td>1.0</td>\n",
              "      <td>&lt; 1 Tahun</td>\n",
              "      <td>Tidak</td>\n",
              "      <td>28029.0</td>\n",
              "      <td>152.0</td>\n",
              "      <td>97.0</td>\n",
              "      <td>0</td>\n",
              "    </tr>\n",
              "    <tr>\n",
              "      <th>1</th>\n",
              "      <td>2.0</td>\n",
              "      <td>Pria</td>\n",
              "      <td>48.0</td>\n",
              "      <td>1.0</td>\n",
              "      <td>39.0</td>\n",
              "      <td>0.0</td>\n",
              "      <td>&gt; 2 Tahun</td>\n",
              "      <td>Pernah</td>\n",
              "      <td>25800.0</td>\n",
              "      <td>29.0</td>\n",
              "      <td>158.0</td>\n",
              "      <td>0</td>\n",
              "    </tr>\n",
              "    <tr>\n",
              "      <th>2</th>\n",
              "      <td>3.0</td>\n",
              "      <td>NaN</td>\n",
              "      <td>21.0</td>\n",
              "      <td>1.0</td>\n",
              "      <td>46.0</td>\n",
              "      <td>1.0</td>\n",
              "      <td>&lt; 1 Tahun</td>\n",
              "      <td>Tidak</td>\n",
              "      <td>32733.0</td>\n",
              "      <td>160.0</td>\n",
              "      <td>119.0</td>\n",
              "      <td>0</td>\n",
              "    </tr>\n",
              "    <tr>\n",
              "      <th>3</th>\n",
              "      <td>4.0</td>\n",
              "      <td>Wanita</td>\n",
              "      <td>58.0</td>\n",
              "      <td>1.0</td>\n",
              "      <td>48.0</td>\n",
              "      <td>0.0</td>\n",
              "      <td>1-2 Tahun</td>\n",
              "      <td>Tidak</td>\n",
              "      <td>2630.0</td>\n",
              "      <td>124.0</td>\n",
              "      <td>63.0</td>\n",
              "      <td>0</td>\n",
              "    </tr>\n",
              "    <tr>\n",
              "      <th>4</th>\n",
              "      <td>5.0</td>\n",
              "      <td>Pria</td>\n",
              "      <td>50.0</td>\n",
              "      <td>1.0</td>\n",
              "      <td>35.0</td>\n",
              "      <td>0.0</td>\n",
              "      <td>&gt; 2 Tahun</td>\n",
              "      <td>NaN</td>\n",
              "      <td>34857.0</td>\n",
              "      <td>88.0</td>\n",
              "      <td>194.0</td>\n",
              "      <td>0</td>\n",
              "    </tr>\n",
              "  </tbody>\n",
              "</table>\n",
              "</div>"
            ],
            "text/plain": [
              "    id Jenis_Kelamin  Umur  ...  Kanal_Penjualan  Lama_Berlangganan  Tertarik\n",
              "0  1.0        Wanita  30.0  ...            152.0               97.0         0\n",
              "1  2.0          Pria  48.0  ...             29.0              158.0         0\n",
              "2  3.0           NaN  21.0  ...            160.0              119.0         0\n",
              "3  4.0        Wanita  58.0  ...            124.0               63.0         0\n",
              "4  5.0          Pria  50.0  ...             88.0              194.0         0\n",
              "\n",
              "[5 rows x 12 columns]"
            ]
          },
          "metadata": {
            "tags": []
          },
          "execution_count": 3
        }
      ]
    },
    {
      "cell_type": "code",
      "metadata": {
        "colab": {
          "base_uri": "https://localhost:8080/"
        },
        "id": "ARnQJvpYB31B",
        "outputId": "252ff07b-daf0-4ff4-83e6-9fe623595ac3"
      },
      "source": [
        "df.info()\n",
        "\n",
        "# some of the object will need an encoding before processing to the machine learning modeling\n",
        "# id column will be dropped because it will not affect anything in our analysis and machine learning process\n"
      ],
      "execution_count": 4,
      "outputs": [
        {
          "output_type": "stream",
          "text": [
            "<class 'pandas.core.frame.DataFrame'>\n",
            "RangeIndex: 333470 entries, 0 to 333469\n",
            "Data columns (total 12 columns):\n",
            " #   Column             Non-Null Count   Dtype  \n",
            "---  ------             --------------   -----  \n",
            " 0   id                 285831 non-null  float64\n",
            " 1   Jenis_Kelamin      319030 non-null  object \n",
            " 2   Umur               319256 non-null  float64\n",
            " 3   SIM                319066 non-null  float64\n",
            " 4   Kode_Daerah        319164 non-null  float64\n",
            " 5   Sudah_Asuransi     319241 non-null  float64\n",
            " 6   Umur_Kendaraan     319195 non-null  object \n",
            " 7   Kendaraan_Rusak    319282 non-null  object \n",
            " 8   Premi              318901 non-null  float64\n",
            " 9   Kanal_Penjualan    319171 non-null  float64\n",
            " 10  Lama_Berlangganan  319478 non-null  float64\n",
            " 11  Tertarik           333470 non-null  int64  \n",
            "dtypes: float64(8), int64(1), object(3)\n",
            "memory usage: 30.5+ MB\n"
          ],
          "name": "stdout"
        }
      ]
    },
    {
      "cell_type": "code",
      "metadata": {
        "colab": {
          "base_uri": "https://localhost:8080/",
          "height": 297
        },
        "id": "l-iUrwUAB31B",
        "outputId": "a0f6a10f-44ba-4acf-f0ba-a8b84609455f"
      },
      "source": [
        "df.describe()\n",
        "\n",
        "# the average customers Lama_Berlangganan (numbers of day been insured in the compant is 154 days)\n",
        "# no customers in this data set have been with the insurance company for 1 full year\n",
        "# the oldest customers in this dataset is 85 while the median is 36 \n",
        "# the most expensive annual premium is almost 17 times more expensive compared to the median annual premium\n",
        "# this data definitely need a scalling to get a better result in the machine learning process "
      ],
      "execution_count": 5,
      "outputs": [
        {
          "output_type": "execute_result",
          "data": {
            "text/html": [
              "<div>\n",
              "<style scoped>\n",
              "    .dataframe tbody tr th:only-of-type {\n",
              "        vertical-align: middle;\n",
              "    }\n",
              "\n",
              "    .dataframe tbody tr th {\n",
              "        vertical-align: top;\n",
              "    }\n",
              "\n",
              "    .dataframe thead th {\n",
              "        text-align: right;\n",
              "    }\n",
              "</style>\n",
              "<table border=\"1\" class=\"dataframe\">\n",
              "  <thead>\n",
              "    <tr style=\"text-align: right;\">\n",
              "      <th></th>\n",
              "      <th>id</th>\n",
              "      <th>Umur</th>\n",
              "      <th>SIM</th>\n",
              "      <th>Kode_Daerah</th>\n",
              "      <th>Sudah_Asuransi</th>\n",
              "      <th>Premi</th>\n",
              "      <th>Kanal_Penjualan</th>\n",
              "      <th>Lama_Berlangganan</th>\n",
              "      <th>Tertarik</th>\n",
              "    </tr>\n",
              "  </thead>\n",
              "  <tbody>\n",
              "    <tr>\n",
              "      <th>count</th>\n",
              "      <td>285831.000000</td>\n",
              "      <td>319256.000000</td>\n",
              "      <td>319066.000000</td>\n",
              "      <td>319164.000000</td>\n",
              "      <td>319241.000000</td>\n",
              "      <td>318901.000000</td>\n",
              "      <td>319171.000000</td>\n",
              "      <td>319478.000000</td>\n",
              "      <td>333470.000000</td>\n",
              "    </tr>\n",
              "    <tr>\n",
              "      <th>mean</th>\n",
              "      <td>142916.000000</td>\n",
              "      <td>38.840028</td>\n",
              "      <td>0.997859</td>\n",
              "      <td>26.394380</td>\n",
              "      <td>0.458603</td>\n",
              "      <td>30550.097899</td>\n",
              "      <td>112.045299</td>\n",
              "      <td>154.310350</td>\n",
              "      <td>0.122551</td>\n",
              "    </tr>\n",
              "    <tr>\n",
              "      <th>std</th>\n",
              "      <td>82512.446734</td>\n",
              "      <td>15.526398</td>\n",
              "      <td>0.046217</td>\n",
              "      <td>13.246852</td>\n",
              "      <td>0.498284</td>\n",
              "      <td>17192.548724</td>\n",
              "      <td>54.196470</td>\n",
              "      <td>83.686932</td>\n",
              "      <td>0.327921</td>\n",
              "    </tr>\n",
              "    <tr>\n",
              "      <th>min</th>\n",
              "      <td>1.000000</td>\n",
              "      <td>20.000000</td>\n",
              "      <td>0.000000</td>\n",
              "      <td>0.000000</td>\n",
              "      <td>0.000000</td>\n",
              "      <td>2630.000000</td>\n",
              "      <td>1.000000</td>\n",
              "      <td>10.000000</td>\n",
              "      <td>0.000000</td>\n",
              "    </tr>\n",
              "    <tr>\n",
              "      <th>25%</th>\n",
              "      <td>71458.500000</td>\n",
              "      <td>25.000000</td>\n",
              "      <td>1.000000</td>\n",
              "      <td>15.000000</td>\n",
              "      <td>0.000000</td>\n",
              "      <td>24397.000000</td>\n",
              "      <td>29.000000</td>\n",
              "      <td>82.000000</td>\n",
              "      <td>0.000000</td>\n",
              "    </tr>\n",
              "    <tr>\n",
              "      <th>50%</th>\n",
              "      <td>142916.000000</td>\n",
              "      <td>36.000000</td>\n",
              "      <td>1.000000</td>\n",
              "      <td>28.000000</td>\n",
              "      <td>0.000000</td>\n",
              "      <td>31660.000000</td>\n",
              "      <td>133.000000</td>\n",
              "      <td>154.000000</td>\n",
              "      <td>0.000000</td>\n",
              "    </tr>\n",
              "    <tr>\n",
              "      <th>75%</th>\n",
              "      <td>214373.500000</td>\n",
              "      <td>49.000000</td>\n",
              "      <td>1.000000</td>\n",
              "      <td>35.000000</td>\n",
              "      <td>1.000000</td>\n",
              "      <td>39392.000000</td>\n",
              "      <td>152.000000</td>\n",
              "      <td>227.000000</td>\n",
              "      <td>0.000000</td>\n",
              "    </tr>\n",
              "    <tr>\n",
              "      <th>max</th>\n",
              "      <td>285831.000000</td>\n",
              "      <td>85.000000</td>\n",
              "      <td>1.000000</td>\n",
              "      <td>52.000000</td>\n",
              "      <td>1.000000</td>\n",
              "      <td>540165.000000</td>\n",
              "      <td>163.000000</td>\n",
              "      <td>299.000000</td>\n",
              "      <td>1.000000</td>\n",
              "    </tr>\n",
              "  </tbody>\n",
              "</table>\n",
              "</div>"
            ],
            "text/plain": [
              "                  id           Umur  ...  Lama_Berlangganan       Tertarik\n",
              "count  285831.000000  319256.000000  ...      319478.000000  333470.000000\n",
              "mean   142916.000000      38.840028  ...         154.310350       0.122551\n",
              "std     82512.446734      15.526398  ...          83.686932       0.327921\n",
              "min         1.000000      20.000000  ...          10.000000       0.000000\n",
              "25%     71458.500000      25.000000  ...          82.000000       0.000000\n",
              "50%    142916.000000      36.000000  ...         154.000000       0.000000\n",
              "75%    214373.500000      49.000000  ...         227.000000       0.000000\n",
              "max    285831.000000      85.000000  ...         299.000000       1.000000\n",
              "\n",
              "[8 rows x 9 columns]"
            ]
          },
          "metadata": {
            "tags": []
          },
          "execution_count": 5
        }
      ]
    },
    {
      "cell_type": "code",
      "metadata": {
        "colab": {
          "base_uri": "https://localhost:8080/",
          "height": 173
        },
        "id": "JFMw1DKCB31B",
        "outputId": "3887db34-4ab7-4813-9414-8837b53f26c9"
      },
      "source": [
        "df.describe(include = 'O')\n",
        "\n",
        "## majority of the health insurance owner is male"
      ],
      "execution_count": 6,
      "outputs": [
        {
          "output_type": "execute_result",
          "data": {
            "text/html": [
              "<div>\n",
              "<style scoped>\n",
              "    .dataframe tbody tr th:only-of-type {\n",
              "        vertical-align: middle;\n",
              "    }\n",
              "\n",
              "    .dataframe tbody tr th {\n",
              "        vertical-align: top;\n",
              "    }\n",
              "\n",
              "    .dataframe thead th {\n",
              "        text-align: right;\n",
              "    }\n",
              "</style>\n",
              "<table border=\"1\" class=\"dataframe\">\n",
              "  <thead>\n",
              "    <tr style=\"text-align: right;\">\n",
              "      <th></th>\n",
              "      <th>Jenis_Kelamin</th>\n",
              "      <th>Umur_Kendaraan</th>\n",
              "      <th>Kendaraan_Rusak</th>\n",
              "    </tr>\n",
              "  </thead>\n",
              "  <tbody>\n",
              "    <tr>\n",
              "      <th>count</th>\n",
              "      <td>319030</td>\n",
              "      <td>319195</td>\n",
              "      <td>319282</td>\n",
              "    </tr>\n",
              "    <tr>\n",
              "      <th>unique</th>\n",
              "      <td>2</td>\n",
              "      <td>3</td>\n",
              "      <td>2</td>\n",
              "    </tr>\n",
              "    <tr>\n",
              "      <th>top</th>\n",
              "      <td>Pria</td>\n",
              "      <td>1-2 Tahun</td>\n",
              "      <td>Pernah</td>\n",
              "    </tr>\n",
              "    <tr>\n",
              "      <th>freq</th>\n",
              "      <td>172548</td>\n",
              "      <td>167727</td>\n",
              "      <td>161164</td>\n",
              "    </tr>\n",
              "  </tbody>\n",
              "</table>\n",
              "</div>"
            ],
            "text/plain": [
              "       Jenis_Kelamin Umur_Kendaraan Kendaraan_Rusak\n",
              "count         319030         319195          319282\n",
              "unique             2              3               2\n",
              "top             Pria      1-2 Tahun          Pernah\n",
              "freq          172548         167727          161164"
            ]
          },
          "metadata": {
            "tags": []
          },
          "execution_count": 6
        }
      ]
    },
    {
      "cell_type": "code",
      "metadata": {
        "colab": {
          "base_uri": "https://localhost:8080/"
        },
        "id": "nEDZK6lDB31C",
        "outputId": "e69387ab-b01e-479b-b30d-304740e02191"
      },
      "source": [
        "## knowing all the unique value in the columns \n",
        "\n",
        "df_unique = df.drop(columns = 'id')\n",
        "\n",
        "for column in df_unique.columns:\n",
        "    print(f\"{column}: \")\n",
        "    print(\"\")\n",
        "    print(df_unique[column].unique())\n",
        "    print(\"\")\n"
      ],
      "execution_count": 7,
      "outputs": [
        {
          "output_type": "stream",
          "text": [
            "Jenis_Kelamin: \n",
            "\n",
            "['Wanita' 'Pria' nan]\n",
            "\n",
            "Umur: \n",
            "\n",
            "[30. 48. 21. 58. 50. 33. 23. 20. 54. 25. nan 66. 31. 24. 22. 52. 26. 46.\n",
            " 41. 45. 29. 68. 73. 27. 34. 60. 44. 47. 75. 38. 35. 53. 71. 59. 57. 65.\n",
            " 51. 39. 37. 28. 36. 67. 49. 42. 72. 69. 63. 40. 32. 76. 56. 43. 64. 55.\n",
            " 61. 80. 78. 70. 74. 62. 77. 79. 82. 81. 85. 84. 83.]\n",
            "\n",
            "SIM: \n",
            "\n",
            "[ 1. nan  0.]\n",
            "\n",
            "Kode_Daerah: \n",
            "\n",
            "[33. 39. 46. 48. 35.  8. 28. 29. 14. 12. nan 24. 30. 15.  9. 11. 10. 34.\n",
            " 16.  3. 36. 47. 49. 38. 43. 44.  6. 41. 37. 31. 26. 18. 13. 20. 45. 50.\n",
            " 32.  2. 21.  7. 52. 17.  4.  0. 25. 23. 40.  5. 27. 19. 42.  1. 22. 51.]\n",
            "\n",
            "Sudah_Asuransi: \n",
            "\n",
            "[ 1.  0. nan]\n",
            "\n",
            "Umur_Kendaraan: \n",
            "\n",
            "['< 1 Tahun' '> 2 Tahun' '1-2 Tahun' nan]\n",
            "\n",
            "Kendaraan_Rusak: \n",
            "\n",
            "['Tidak' 'Pernah' nan]\n",
            "\n",
            "Premi: \n",
            "\n",
            "[28029. 25800. 32733. ... 16922. 86562. 68474.]\n",
            "\n",
            "Kanal_Penjualan: \n",
            "\n",
            "[152.  29. 160. 124.  88. 145.  31.  nan  26. 156. 122.   7. 154.  25.\n",
            "  12.  11. 151. 133. 157.  30.  13.   1.  52.  23.  14.  16. 163.   4.\n",
            " 138.  55.   8. 155. 125.  24.  22. 120.   3.  94. 153. 131.  60. 150.\n",
            "  47.  10. 158.  44.  15. 159.  18.  21.  37.  19. 148. 113. 130.  35.\n",
            " 147. 129.  64.  56.  61. 136.   9. 127. 119. 106. 111. 135.  65.  42.\n",
            " 116. 140.  45. 132.  48. 139.  90.  59.  66.  54. 108.  36.  86.  80.\n",
            "  46.  40.  95.  58.  89. 109. 137.  53.  75. 128.  97. 123. 103. 126.\n",
            " 107.  91. 100. 110.  78.  68.  38.  63. 121.  57.  92.  32.  93. 134.\n",
            "  49. 114.  87. 118.  98. 117. 146.  76.  96.  73.  20.  51.  99.  83.\n",
            "  81.  17.  84.  50.  79.  28. 105. 104.  69.  62. 144.   2.  74.  39.\n",
            " 101.  71. 112.  33.  34.  67.  82. 102.  27.   6.  70. 115.]\n",
            "\n",
            "Lama_Berlangganan: \n",
            "\n",
            "[ 97. 158. 119.  63. 194. 171. 215. 222.  31.  28. 282. 210. 232. 140.\n",
            " 281. 132. 225.  43.  11. 230. 284. 264.  nan  94. 298.  92.  38.  30.\n",
            " 286.  50. 241. 240. 214. 165. 188. 170. 183. 166.  69.  41. 234. 250.\n",
            " 168. 113. 102. 235.  93.  48. 167.  12. 196. 191. 221. 155. 145. 269.\n",
            " 247. 189. 139. 243. 153. 248. 173.  75. 110.  98. 272. 299. 283. 157.\n",
            "  36.  66.  79. 226. 242.  26. 156. 138. 227. 121. 266.  90. 276.  82.\n",
            "  54. 105.  62. 254. 164. 267. 263. 224. 115. 175. 260.  13.  44.  21.\n",
            " 195. 249. 103. 117. 202.  80.  33. 133.  35.  61. 135.  73.  53. 129.\n",
            " 236.  42. 205. 275.  84. 111.  99. 172. 270. 280. 262. 187. 200. 208.\n",
            " 134. 120. 278. 237.  52. 177. 125.  67. 274. 293. 186. 150. 124.  39.\n",
            " 100.  25. 297. 123.  24.  74.  78. 233. 209. 287. 201. 228.  60. 216.\n",
            " 160.  95. 154. 112. 256.  17. 244.  88. 104. 251. 136. 141.  19. 161.\n",
            "  57.  37. 204. 128.  47.  49.  91.  32. 147.  89. 217. 107. 229.  64.\n",
            " 181. 127. 288. 179.  70. 238. 178. 148.  56. 190. 182. 259. 151. 271.\n",
            " 184. 180. 220. 258. 239. 130. 279. 294.  96. 245. 197. 206. 174. 253.\n",
            "  29. 185.  27. 219. 176. 149. 192. 289.  65. 292. 246. 295. 169.  10.\n",
            "  34.  40. 231. 203.  85. 131.  81.  20. 162. 213. 159.  68.  71. 106.\n",
            " 109.  18.  22. 285.  83. 118. 268.  77. 296. 108. 198. 223.  55. 207.\n",
            "  23. 126. 101. 211. 152.  72. 114. 218. 116.  45. 257. 193.  59.  87.\n",
            " 291. 199. 265. 273. 212.  15. 142. 144.  58. 255. 137.  76. 122. 143.\n",
            " 252. 277. 261. 146. 290.  16.  14.  46.  86.  51. 163.]\n",
            "\n",
            "Tertarik: \n",
            "\n",
            "[0 1]\n",
            "\n"
          ],
          "name": "stdout"
        }
      ]
    },
    {
      "cell_type": "markdown",
      "metadata": {
        "id": "cwtF5AK6B31C"
      },
      "source": [
        "## Handling null values, Handling outliers, and encoding process\n"
      ]
    },
    {
      "cell_type": "code",
      "metadata": {
        "colab": {
          "base_uri": "https://localhost:8080/"
        },
        "id": "Rv9CWaELB31C",
        "outputId": "28111078-c8ec-4aea-8a3f-e2a8517e04ee"
      },
      "source": [
        "print(df_train.isna().sum())\n",
        "print(df_test.isna().sum())\n",
        "## for train data apparently there are many feature that has null value in all the rows and columns so we have to drop the columns\n",
        "## for test data there are no missing values"
      ],
      "execution_count": 8,
      "outputs": [
        {
          "output_type": "stream",
          "text": [
            "id                       0\n",
            "Jenis_Kelamin        14440\n",
            "Umur                 14214\n",
            "SIM                  14404\n",
            "Kode_Daerah          14306\n",
            "Sudah_Asuransi       14229\n",
            "Umur_Kendaraan       14275\n",
            "Kendaraan_Rusak      14188\n",
            "Premi                14569\n",
            "Kanal_Penjualan      14299\n",
            "Lama_Berlangganan    13992\n",
            "Tertarik                 0\n",
            "dtype: int64\n",
            "Jenis_Kelamin        0\n",
            "Umur                 0\n",
            "SIM                  0\n",
            "Kode_Daerah          0\n",
            "Sudah_Asuransi       0\n",
            "Umur_Kendaraan       0\n",
            "Kendaraan_Rusak      0\n",
            "Premi                0\n",
            "Kanal_Penjualan      0\n",
            "Lama_Berlangganan    0\n",
            "Tertarik             0\n",
            "dtype: int64\n"
          ],
          "name": "stdout"
        }
      ]
    },
    {
      "cell_type": "code",
      "metadata": {
        "id": "NQf7Q1KcB31D"
      },
      "source": [
        "df_train = df.dropna()\n",
        "df = df.dropna()"
      ],
      "execution_count": 9,
      "outputs": []
    },
    {
      "cell_type": "code",
      "metadata": {
        "colab": {
          "base_uri": "https://localhost:8080/",
          "height": 204
        },
        "id": "uVDM09X9B31D",
        "outputId": "d0dbc430-1917-4998-b598-3ef5c192d49b"
      },
      "source": [
        "df = df.drop(columns = 'id')\n",
        "df.head()\n",
        "\n",
        "# id wont be needed in the analysis and it wont be needed for the machine learning process so it's kind of redundant to keep it"
      ],
      "execution_count": 10,
      "outputs": [
        {
          "output_type": "execute_result",
          "data": {
            "text/html": [
              "<div>\n",
              "<style scoped>\n",
              "    .dataframe tbody tr th:only-of-type {\n",
              "        vertical-align: middle;\n",
              "    }\n",
              "\n",
              "    .dataframe tbody tr th {\n",
              "        vertical-align: top;\n",
              "    }\n",
              "\n",
              "    .dataframe thead th {\n",
              "        text-align: right;\n",
              "    }\n",
              "</style>\n",
              "<table border=\"1\" class=\"dataframe\">\n",
              "  <thead>\n",
              "    <tr style=\"text-align: right;\">\n",
              "      <th></th>\n",
              "      <th>Jenis_Kelamin</th>\n",
              "      <th>Umur</th>\n",
              "      <th>SIM</th>\n",
              "      <th>Kode_Daerah</th>\n",
              "      <th>Sudah_Asuransi</th>\n",
              "      <th>Umur_Kendaraan</th>\n",
              "      <th>Kendaraan_Rusak</th>\n",
              "      <th>Premi</th>\n",
              "      <th>Kanal_Penjualan</th>\n",
              "      <th>Lama_Berlangganan</th>\n",
              "      <th>Tertarik</th>\n",
              "    </tr>\n",
              "  </thead>\n",
              "  <tbody>\n",
              "    <tr>\n",
              "      <th>0</th>\n",
              "      <td>Wanita</td>\n",
              "      <td>30.0</td>\n",
              "      <td>1.0</td>\n",
              "      <td>33.0</td>\n",
              "      <td>1.0</td>\n",
              "      <td>&lt; 1 Tahun</td>\n",
              "      <td>Tidak</td>\n",
              "      <td>28029.0</td>\n",
              "      <td>152.0</td>\n",
              "      <td>97.0</td>\n",
              "      <td>0</td>\n",
              "    </tr>\n",
              "    <tr>\n",
              "      <th>1</th>\n",
              "      <td>Pria</td>\n",
              "      <td>48.0</td>\n",
              "      <td>1.0</td>\n",
              "      <td>39.0</td>\n",
              "      <td>0.0</td>\n",
              "      <td>&gt; 2 Tahun</td>\n",
              "      <td>Pernah</td>\n",
              "      <td>25800.0</td>\n",
              "      <td>29.0</td>\n",
              "      <td>158.0</td>\n",
              "      <td>0</td>\n",
              "    </tr>\n",
              "    <tr>\n",
              "      <th>3</th>\n",
              "      <td>Wanita</td>\n",
              "      <td>58.0</td>\n",
              "      <td>1.0</td>\n",
              "      <td>48.0</td>\n",
              "      <td>0.0</td>\n",
              "      <td>1-2 Tahun</td>\n",
              "      <td>Tidak</td>\n",
              "      <td>2630.0</td>\n",
              "      <td>124.0</td>\n",
              "      <td>63.0</td>\n",
              "      <td>0</td>\n",
              "    </tr>\n",
              "    <tr>\n",
              "      <th>5</th>\n",
              "      <td>Pria</td>\n",
              "      <td>21.0</td>\n",
              "      <td>1.0</td>\n",
              "      <td>35.0</td>\n",
              "      <td>1.0</td>\n",
              "      <td>&lt; 1 Tahun</td>\n",
              "      <td>Tidak</td>\n",
              "      <td>22735.0</td>\n",
              "      <td>152.0</td>\n",
              "      <td>171.0</td>\n",
              "      <td>0</td>\n",
              "    </tr>\n",
              "    <tr>\n",
              "      <th>8</th>\n",
              "      <td>Wanita</td>\n",
              "      <td>20.0</td>\n",
              "      <td>1.0</td>\n",
              "      <td>8.0</td>\n",
              "      <td>1.0</td>\n",
              "      <td>&lt; 1 Tahun</td>\n",
              "      <td>Tidak</td>\n",
              "      <td>30786.0</td>\n",
              "      <td>160.0</td>\n",
              "      <td>31.0</td>\n",
              "      <td>0</td>\n",
              "    </tr>\n",
              "  </tbody>\n",
              "</table>\n",
              "</div>"
            ],
            "text/plain": [
              "  Jenis_Kelamin  Umur  SIM  ...  Kanal_Penjualan  Lama_Berlangganan Tertarik\n",
              "0        Wanita  30.0  1.0  ...            152.0               97.0        0\n",
              "1          Pria  48.0  1.0  ...             29.0              158.0        0\n",
              "3        Wanita  58.0  1.0  ...            124.0               63.0        0\n",
              "5          Pria  21.0  1.0  ...            152.0              171.0        0\n",
              "8        Wanita  20.0  1.0  ...            160.0               31.0        0\n",
              "\n",
              "[5 rows x 11 columns]"
            ]
          },
          "metadata": {
            "tags": []
          },
          "execution_count": 10
        }
      ]
    },
    {
      "cell_type": "code",
      "metadata": {
        "colab": {
          "base_uri": "https://localhost:8080/",
          "height": 204
        },
        "id": "QugN0n0SB31D",
        "outputId": "949690e3-aa68-4311-f7d4-205563196706"
      },
      "source": [
        "# change all column type to integer for data exploration\n",
        "for column in df.describe().columns:\n",
        "    df[column] = df[column].astype(int)\n",
        "df.head()"
      ],
      "execution_count": 11,
      "outputs": [
        {
          "output_type": "execute_result",
          "data": {
            "text/html": [
              "<div>\n",
              "<style scoped>\n",
              "    .dataframe tbody tr th:only-of-type {\n",
              "        vertical-align: middle;\n",
              "    }\n",
              "\n",
              "    .dataframe tbody tr th {\n",
              "        vertical-align: top;\n",
              "    }\n",
              "\n",
              "    .dataframe thead th {\n",
              "        text-align: right;\n",
              "    }\n",
              "</style>\n",
              "<table border=\"1\" class=\"dataframe\">\n",
              "  <thead>\n",
              "    <tr style=\"text-align: right;\">\n",
              "      <th></th>\n",
              "      <th>Jenis_Kelamin</th>\n",
              "      <th>Umur</th>\n",
              "      <th>SIM</th>\n",
              "      <th>Kode_Daerah</th>\n",
              "      <th>Sudah_Asuransi</th>\n",
              "      <th>Umur_Kendaraan</th>\n",
              "      <th>Kendaraan_Rusak</th>\n",
              "      <th>Premi</th>\n",
              "      <th>Kanal_Penjualan</th>\n",
              "      <th>Lama_Berlangganan</th>\n",
              "      <th>Tertarik</th>\n",
              "    </tr>\n",
              "  </thead>\n",
              "  <tbody>\n",
              "    <tr>\n",
              "      <th>0</th>\n",
              "      <td>Wanita</td>\n",
              "      <td>30</td>\n",
              "      <td>1</td>\n",
              "      <td>33</td>\n",
              "      <td>1</td>\n",
              "      <td>&lt; 1 Tahun</td>\n",
              "      <td>Tidak</td>\n",
              "      <td>28029</td>\n",
              "      <td>152</td>\n",
              "      <td>97</td>\n",
              "      <td>0</td>\n",
              "    </tr>\n",
              "    <tr>\n",
              "      <th>1</th>\n",
              "      <td>Pria</td>\n",
              "      <td>48</td>\n",
              "      <td>1</td>\n",
              "      <td>39</td>\n",
              "      <td>0</td>\n",
              "      <td>&gt; 2 Tahun</td>\n",
              "      <td>Pernah</td>\n",
              "      <td>25800</td>\n",
              "      <td>29</td>\n",
              "      <td>158</td>\n",
              "      <td>0</td>\n",
              "    </tr>\n",
              "    <tr>\n",
              "      <th>3</th>\n",
              "      <td>Wanita</td>\n",
              "      <td>58</td>\n",
              "      <td>1</td>\n",
              "      <td>48</td>\n",
              "      <td>0</td>\n",
              "      <td>1-2 Tahun</td>\n",
              "      <td>Tidak</td>\n",
              "      <td>2630</td>\n",
              "      <td>124</td>\n",
              "      <td>63</td>\n",
              "      <td>0</td>\n",
              "    </tr>\n",
              "    <tr>\n",
              "      <th>5</th>\n",
              "      <td>Pria</td>\n",
              "      <td>21</td>\n",
              "      <td>1</td>\n",
              "      <td>35</td>\n",
              "      <td>1</td>\n",
              "      <td>&lt; 1 Tahun</td>\n",
              "      <td>Tidak</td>\n",
              "      <td>22735</td>\n",
              "      <td>152</td>\n",
              "      <td>171</td>\n",
              "      <td>0</td>\n",
              "    </tr>\n",
              "    <tr>\n",
              "      <th>8</th>\n",
              "      <td>Wanita</td>\n",
              "      <td>20</td>\n",
              "      <td>1</td>\n",
              "      <td>8</td>\n",
              "      <td>1</td>\n",
              "      <td>&lt; 1 Tahun</td>\n",
              "      <td>Tidak</td>\n",
              "      <td>30786</td>\n",
              "      <td>160</td>\n",
              "      <td>31</td>\n",
              "      <td>0</td>\n",
              "    </tr>\n",
              "  </tbody>\n",
              "</table>\n",
              "</div>"
            ],
            "text/plain": [
              "  Jenis_Kelamin  Umur  SIM  ...  Kanal_Penjualan  Lama_Berlangganan Tertarik\n",
              "0        Wanita    30    1  ...              152                 97        0\n",
              "1          Pria    48    1  ...               29                158        0\n",
              "3        Wanita    58    1  ...              124                 63        0\n",
              "5          Pria    21    1  ...              152                171        0\n",
              "8        Wanita    20    1  ...              160                 31        0\n",
              "\n",
              "[5 rows x 11 columns]"
            ]
          },
          "metadata": {
            "tags": []
          },
          "execution_count": 11
        }
      ]
    },
    {
      "cell_type": "code",
      "metadata": {
        "colab": {
          "base_uri": "https://localhost:8080/",
          "height": 1000
        },
        "id": "DGYY7KcKB31E",
        "outputId": "ad756126-0208-4cd4-99b9-2d9935e7725b"
      },
      "source": [
        "## Looking at the box plot to check all the outliers \n",
        "\n",
        "plt.figure(figsize = (20, 10))\n",
        "\n",
        "for i, column in enumerate(df.describe().columns):\n",
        "    plt.subplot(4,2, i+1)\n",
        "    sns.boxplot(df[column])\n",
        "\n",
        "plt.tight_layout()\n",
        "plt.show()\n",
        "\n",
        "# from the boxplot below we can see that there's a lot of outliers in the annual premium\n",
        "# this will need to be scaled with standard scaler to better the eva matrix / binning"
      ],
      "execution_count": 12,
      "outputs": [
        {
          "output_type": "stream",
          "text": [
            "/usr/local/lib/python3.7/dist-packages/seaborn/_decorators.py:43: FutureWarning: Pass the following variable as a keyword arg: x. From version 0.12, the only valid positional argument will be `data`, and passing other arguments without an explicit keyword will result in an error or misinterpretation.\n",
            "  FutureWarning\n",
            "/usr/local/lib/python3.7/dist-packages/seaborn/_decorators.py:43: FutureWarning: Pass the following variable as a keyword arg: x. From version 0.12, the only valid positional argument will be `data`, and passing other arguments without an explicit keyword will result in an error or misinterpretation.\n",
            "  FutureWarning\n",
            "/usr/local/lib/python3.7/dist-packages/seaborn/_decorators.py:43: FutureWarning: Pass the following variable as a keyword arg: x. From version 0.12, the only valid positional argument will be `data`, and passing other arguments without an explicit keyword will result in an error or misinterpretation.\n",
            "  FutureWarning\n",
            "/usr/local/lib/python3.7/dist-packages/seaborn/_decorators.py:43: FutureWarning: Pass the following variable as a keyword arg: x. From version 0.12, the only valid positional argument will be `data`, and passing other arguments without an explicit keyword will result in an error or misinterpretation.\n",
            "  FutureWarning\n",
            "/usr/local/lib/python3.7/dist-packages/seaborn/_decorators.py:43: FutureWarning: Pass the following variable as a keyword arg: x. From version 0.12, the only valid positional argument will be `data`, and passing other arguments without an explicit keyword will result in an error or misinterpretation.\n",
            "  FutureWarning\n",
            "/usr/local/lib/python3.7/dist-packages/seaborn/_decorators.py:43: FutureWarning: Pass the following variable as a keyword arg: x. From version 0.12, the only valid positional argument will be `data`, and passing other arguments without an explicit keyword will result in an error or misinterpretation.\n",
            "  FutureWarning\n",
            "/usr/local/lib/python3.7/dist-packages/seaborn/_decorators.py:43: FutureWarning: Pass the following variable as a keyword arg: x. From version 0.12, the only valid positional argument will be `data`, and passing other arguments without an explicit keyword will result in an error or misinterpretation.\n",
            "  FutureWarning\n",
            "/usr/local/lib/python3.7/dist-packages/seaborn/_decorators.py:43: FutureWarning: Pass the following variable as a keyword arg: x. From version 0.12, the only valid positional argument will be `data`, and passing other arguments without an explicit keyword will result in an error or misinterpretation.\n",
            "  FutureWarning\n"
          ],
          "name": "stderr"
        },
        {
          "output_type": "display_data",
          "data": {
            "image/png": "[encoded data removed]",
            "text/plain": [
              "<Figure size 1440x720 with 8 Axes>"
            ]
          },
          "metadata": {
            "tags": [],
            "needs_background": "light"
          }
        }
      ]
    },
    {
      "cell_type": "markdown",
      "metadata": {
        "id": "DD1773nBB31E"
      },
      "source": [
        "### Encoding Object columns"
      ]
    },
    {
      "cell_type": "markdown",
      "metadata": {
        "id": "nOQ3PokfB31E"
      },
      "source": [
        "#### Encoding 'Jenis_Kelamin'"
      ]
    },
    {
      "cell_type": "code",
      "metadata": {
        "colab": {
          "base_uri": "https://localhost:8080/",
          "height": 0
        },
        "id": "3PmRAbqCB31E",
        "outputId": "2b0034bb-0cc8-466d-8ca1-45179d79502d"
      },
      "source": [
        "df['Jenis_Kelamin'] = df['Jenis_Kelamin'].map( {'Wanita':0, 'Pria':1})\n",
        "df_train['Jenis_Kelamin'] = df_train['Jenis_Kelamin'].map( {'Wanita':0, 'Pria':1})\n",
        "df_test['Jenis_Kelamin'] = df_test['Jenis_Kelamin'].map( {'Wanita':0, 'Pria':1})\n",
        "df.head()"
      ],
      "execution_count": 13,
      "outputs": [
        {
          "output_type": "execute_result",
          "data": {
            "text/html": [
              "<div>\n",
              "<style scoped>\n",
              "    .dataframe tbody tr th:only-of-type {\n",
              "        vertical-align: middle;\n",
              "    }\n",
              "\n",
              "    .dataframe tbody tr th {\n",
              "        vertical-align: top;\n",
              "    }\n",
              "\n",
              "    .dataframe thead th {\n",
              "        text-align: right;\n",
              "    }\n",
              "</style>\n",
              "<table border=\"1\" class=\"dataframe\">\n",
              "  <thead>\n",
              "    <tr style=\"text-align: right;\">\n",
              "      <th></th>\n",
              "      <th>Jenis_Kelamin</th>\n",
              "      <th>Umur</th>\n",
              "      <th>SIM</th>\n",
              "      <th>Kode_Daerah</th>\n",
              "      <th>Sudah_Asuransi</th>\n",
              "      <th>Umur_Kendaraan</th>\n",
              "      <th>Kendaraan_Rusak</th>\n",
              "      <th>Premi</th>\n",
              "      <th>Kanal_Penjualan</th>\n",
              "      <th>Lama_Berlangganan</th>\n",
              "      <th>Tertarik</th>\n",
              "    </tr>\n",
              "  </thead>\n",
              "  <tbody>\n",
              "    <tr>\n",
              "      <th>0</th>\n",
              "      <td>0</td>\n",
              "      <td>30</td>\n",
              "      <td>1</td>\n",
              "      <td>33</td>\n",
              "      <td>1</td>\n",
              "      <td>&lt; 1 Tahun</td>\n",
              "      <td>Tidak</td>\n",
              "      <td>28029</td>\n",
              "      <td>152</td>\n",
              "      <td>97</td>\n",
              "      <td>0</td>\n",
              "    </tr>\n",
              "    <tr>\n",
              "      <th>1</th>\n",
              "      <td>1</td>\n",
              "      <td>48</td>\n",
              "      <td>1</td>\n",
              "      <td>39</td>\n",
              "      <td>0</td>\n",
              "      <td>&gt; 2 Tahun</td>\n",
              "      <td>Pernah</td>\n",
              "      <td>25800</td>\n",
              "      <td>29</td>\n",
              "      <td>158</td>\n",
              "      <td>0</td>\n",
              "    </tr>\n",
              "    <tr>\n",
              "      <th>3</th>\n",
              "      <td>0</td>\n",
              "      <td>58</td>\n",
              "      <td>1</td>\n",
              "      <td>48</td>\n",
              "      <td>0</td>\n",
              "      <td>1-2 Tahun</td>\n",
              "      <td>Tidak</td>\n",
              "      <td>2630</td>\n",
              "      <td>124</td>\n",
              "      <td>63</td>\n",
              "      <td>0</td>\n",
              "    </tr>\n",
              "    <tr>\n",
              "      <th>5</th>\n",
              "      <td>1</td>\n",
              "      <td>21</td>\n",
              "      <td>1</td>\n",
              "      <td>35</td>\n",
              "      <td>1</td>\n",
              "      <td>&lt; 1 Tahun</td>\n",
              "      <td>Tidak</td>\n",
              "      <td>22735</td>\n",
              "      <td>152</td>\n",
              "      <td>171</td>\n",
              "      <td>0</td>\n",
              "    </tr>\n",
              "    <tr>\n",
              "      <th>8</th>\n",
              "      <td>0</td>\n",
              "      <td>20</td>\n",
              "      <td>1</td>\n",
              "      <td>8</td>\n",
              "      <td>1</td>\n",
              "      <td>&lt; 1 Tahun</td>\n",
              "      <td>Tidak</td>\n",
              "      <td>30786</td>\n",
              "      <td>160</td>\n",
              "      <td>31</td>\n",
              "      <td>0</td>\n",
              "    </tr>\n",
              "  </tbody>\n",
              "</table>\n",
              "</div>"
            ],
            "text/plain": [
              "   Jenis_Kelamin  Umur  SIM  ...  Kanal_Penjualan  Lama_Berlangganan Tertarik\n",
              "0              0    30    1  ...              152                 97        0\n",
              "1              1    48    1  ...               29                158        0\n",
              "3              0    58    1  ...              124                 63        0\n",
              "5              1    21    1  ...              152                171        0\n",
              "8              0    20    1  ...              160                 31        0\n",
              "\n",
              "[5 rows x 11 columns]"
            ]
          },
          "metadata": {
            "tags": []
          },
          "execution_count": 13
        }
      ]
    },
    {
      "cell_type": "markdown",
      "metadata": {
        "id": "yYWQBpAlB31F"
      },
      "source": [
        "#### Encoding Umur_Kendaraan"
      ]
    },
    {
      "cell_type": "code",
      "metadata": {
        "colab": {
          "base_uri": "https://localhost:8080/",
          "height": 0
        },
        "id": "6LG2YPchB31F",
        "outputId": "d4e58735-abcd-42d1-9382-3c0316adcf7c"
      },
      "source": [
        "df['Umur_Kendaraan'] = df['Umur_Kendaraan'].map( {'< 1 Tahun':0, '1-2 Tahun':1, '> 2 Tahun':2})\n",
        "df_train['Umur_Kendaraan'] = df_train['Umur_Kendaraan'].map( {'< 1 Tahun':0, '1-2 Tahun':1, '> 2 Tahun':2})\n",
        "df_test['Umur_Kendaraan'] = df_test['Umur_Kendaraan'].map( {'< 1 Tahun':0, '1-2 Tahun':1, '> 2 Tahun':2})\n",
        "df.head()"
      ],
      "execution_count": 14,
      "outputs": [
        {
          "output_type": "execute_result",
          "data": {
            "text/html": [
              "<div>\n",
              "<style scoped>\n",
              "    .dataframe tbody tr th:only-of-type {\n",
              "        vertical-align: middle;\n",
              "    }\n",
              "\n",
              "    .dataframe tbody tr th {\n",
              "        vertical-align: top;\n",
              "    }\n",
              "\n",
              "    .dataframe thead th {\n",
              "        text-align: right;\n",
              "    }\n",
              "</style>\n",
              "<table border=\"1\" class=\"dataframe\">\n",
              "  <thead>\n",
              "    <tr style=\"text-align: right;\">\n",
              "      <th></th>\n",
              "      <th>Jenis_Kelamin</th>\n",
              "      <th>Umur</th>\n",
              "      <th>SIM</th>\n",
              "      <th>Kode_Daerah</th>\n",
              "      <th>Sudah_Asuransi</th>\n",
              "      <th>Umur_Kendaraan</th>\n",
              "      <th>Kendaraan_Rusak</th>\n",
              "      <th>Premi</th>\n",
              "      <th>Kanal_Penjualan</th>\n",
              "      <th>Lama_Berlangganan</th>\n",
              "      <th>Tertarik</th>\n",
              "    </tr>\n",
              "  </thead>\n",
              "  <tbody>\n",
              "    <tr>\n",
              "      <th>0</th>\n",
              "      <td>0</td>\n",
              "      <td>30</td>\n",
              "      <td>1</td>\n",
              "      <td>33</td>\n",
              "      <td>1</td>\n",
              "      <td>0</td>\n",
              "      <td>Tidak</td>\n",
              "      <td>28029</td>\n",
              "      <td>152</td>\n",
              "      <td>97</td>\n",
              "      <td>0</td>\n",
              "    </tr>\n",
              "    <tr>\n",
              "      <th>1</th>\n",
              "      <td>1</td>\n",
              "      <td>48</td>\n",
              "      <td>1</td>\n",
              "      <td>39</td>\n",
              "      <td>0</td>\n",
              "      <td>2</td>\n",
              "      <td>Pernah</td>\n",
              "      <td>25800</td>\n",
              "      <td>29</td>\n",
              "      <td>158</td>\n",
              "      <td>0</td>\n",
              "    </tr>\n",
              "    <tr>\n",
              "      <th>3</th>\n",
              "      <td>0</td>\n",
              "      <td>58</td>\n",
              "      <td>1</td>\n",
              "      <td>48</td>\n",
              "      <td>0</td>\n",
              "      <td>1</td>\n",
              "      <td>Tidak</td>\n",
              "      <td>2630</td>\n",
              "      <td>124</td>\n",
              "      <td>63</td>\n",
              "      <td>0</td>\n",
              "    </tr>\n",
              "    <tr>\n",
              "      <th>5</th>\n",
              "      <td>1</td>\n",
              "      <td>21</td>\n",
              "      <td>1</td>\n",
              "      <td>35</td>\n",
              "      <td>1</td>\n",
              "      <td>0</td>\n",
              "      <td>Tidak</td>\n",
              "      <td>22735</td>\n",
              "      <td>152</td>\n",
              "      <td>171</td>\n",
              "      <td>0</td>\n",
              "    </tr>\n",
              "    <tr>\n",
              "      <th>8</th>\n",
              "      <td>0</td>\n",
              "      <td>20</td>\n",
              "      <td>1</td>\n",
              "      <td>8</td>\n",
              "      <td>1</td>\n",
              "      <td>0</td>\n",
              "      <td>Tidak</td>\n",
              "      <td>30786</td>\n",
              "      <td>160</td>\n",
              "      <td>31</td>\n",
              "      <td>0</td>\n",
              "    </tr>\n",
              "  </tbody>\n",
              "</table>\n",
              "</div>"
            ],
            "text/plain": [
              "   Jenis_Kelamin  Umur  SIM  ...  Kanal_Penjualan  Lama_Berlangganan  Tertarik\n",
              "0              0    30    1  ...              152                 97         0\n",
              "1              1    48    1  ...               29                158         0\n",
              "3              0    58    1  ...              124                 63         0\n",
              "5              1    21    1  ...              152                171         0\n",
              "8              0    20    1  ...              160                 31         0\n",
              "\n",
              "[5 rows x 11 columns]"
            ]
          },
          "metadata": {
            "tags": []
          },
          "execution_count": 14
        }
      ]
    },
    {
      "cell_type": "markdown",
      "metadata": {
        "id": "YP0nduLEB31F"
      },
      "source": [
        "#### Encoding Kendaraan_Rusak"
      ]
    },
    {
      "cell_type": "code",
      "metadata": {
        "colab": {
          "base_uri": "https://localhost:8080/",
          "height": 0
        },
        "id": "n-fHzDouB31F",
        "outputId": "2aed71a3-ff60-47aa-c9b0-f1cfb764db05"
      },
      "source": [
        "df['Kendaraan_Rusak'] = df['Kendaraan_Rusak'].map( {'Tidak':0, 'Pernah':1})\n",
        "df_train['Kendaraan_Rusak'] = df_train['Kendaraan_Rusak'].map( {'Tidak':0, 'Pernah':1})\n",
        "df_test['Kendaraan_Rusak'] = df_test['Kendaraan_Rusak'].map( {'Tidak':0, 'Pernah':1})\n",
        "df.head()"
      ],
      "execution_count": 15,
      "outputs": [
        {
          "output_type": "execute_result",
          "data": {
            "text/html": [
              "<div>\n",
              "<style scoped>\n",
              "    .dataframe tbody tr th:only-of-type {\n",
              "        vertical-align: middle;\n",
              "    }\n",
              "\n",
              "    .dataframe tbody tr th {\n",
              "        vertical-align: top;\n",
              "    }\n",
              "\n",
              "    .dataframe thead th {\n",
              "        text-align: right;\n",
              "    }\n",
              "</style>\n",
              "<table border=\"1\" class=\"dataframe\">\n",
              "  <thead>\n",
              "    <tr style=\"text-align: right;\">\n",
              "      <th></th>\n",
              "      <th>Jenis_Kelamin</th>\n",
              "      <th>Umur</th>\n",
              "      <th>SIM</th>\n",
              "      <th>Kode_Daerah</th>\n",
              "      <th>Sudah_Asuransi</th>\n",
              "      <th>Umur_Kendaraan</th>\n",
              "      <th>Kendaraan_Rusak</th>\n",
              "      <th>Premi</th>\n",
              "      <th>Kanal_Penjualan</th>\n",
              "      <th>Lama_Berlangganan</th>\n",
              "      <th>Tertarik</th>\n",
              "    </tr>\n",
              "  </thead>\n",
              "  <tbody>\n",
              "    <tr>\n",
              "      <th>0</th>\n",
              "      <td>0</td>\n",
              "      <td>30</td>\n",
              "      <td>1</td>\n",
              "      <td>33</td>\n",
              "      <td>1</td>\n",
              "      <td>0</td>\n",
              "      <td>0</td>\n",
              "      <td>28029</td>\n",
              "      <td>152</td>\n",
              "      <td>97</td>\n",
              "      <td>0</td>\n",
              "    </tr>\n",
              "    <tr>\n",
              "      <th>1</th>\n",
              "      <td>1</td>\n",
              "      <td>48</td>\n",
              "      <td>1</td>\n",
              "      <td>39</td>\n",
              "      <td>0</td>\n",
              "      <td>2</td>\n",
              "      <td>1</td>\n",
              "      <td>25800</td>\n",
              "      <td>29</td>\n",
              "      <td>158</td>\n",
              "      <td>0</td>\n",
              "    </tr>\n",
              "    <tr>\n",
              "      <th>3</th>\n",
              "      <td>0</td>\n",
              "      <td>58</td>\n",
              "      <td>1</td>\n",
              "      <td>48</td>\n",
              "      <td>0</td>\n",
              "      <td>1</td>\n",
              "      <td>0</td>\n",
              "      <td>2630</td>\n",
              "      <td>124</td>\n",
              "      <td>63</td>\n",
              "      <td>0</td>\n",
              "    </tr>\n",
              "    <tr>\n",
              "      <th>5</th>\n",
              "      <td>1</td>\n",
              "      <td>21</td>\n",
              "      <td>1</td>\n",
              "      <td>35</td>\n",
              "      <td>1</td>\n",
              "      <td>0</td>\n",
              "      <td>0</td>\n",
              "      <td>22735</td>\n",
              "      <td>152</td>\n",
              "      <td>171</td>\n",
              "      <td>0</td>\n",
              "    </tr>\n",
              "    <tr>\n",
              "      <th>8</th>\n",
              "      <td>0</td>\n",
              "      <td>20</td>\n",
              "      <td>1</td>\n",
              "      <td>8</td>\n",
              "      <td>1</td>\n",
              "      <td>0</td>\n",
              "      <td>0</td>\n",
              "      <td>30786</td>\n",
              "      <td>160</td>\n",
              "      <td>31</td>\n",
              "      <td>0</td>\n",
              "    </tr>\n",
              "  </tbody>\n",
              "</table>\n",
              "</div>"
            ],
            "text/plain": [
              "   Jenis_Kelamin  Umur  SIM  ...  Kanal_Penjualan  Lama_Berlangganan  Tertarik\n",
              "0              0    30    1  ...              152                 97         0\n",
              "1              1    48    1  ...               29                158         0\n",
              "3              0    58    1  ...              124                 63         0\n",
              "5              1    21    1  ...              152                171         0\n",
              "8              0    20    1  ...              160                 31         0\n",
              "\n",
              "[5 rows x 11 columns]"
            ]
          },
          "metadata": {
            "tags": []
          },
          "execution_count": 15
        }
      ]
    },
    {
      "cell_type": "code",
      "metadata": {
        "colab": {
          "base_uri": "https://localhost:8080/"
        },
        "id": "tZSC7NhfB31G",
        "outputId": "7b5cf40b-6d36-4c86-d7a5-7c87551eba3e"
      },
      "source": [
        "df.info()\n",
        "\n",
        "# Now all column are in int or float value and ready to be machine learning processed"
      ],
      "execution_count": 16,
      "outputs": [
        {
          "output_type": "stream",
          "text": [
            "<class 'pandas.core.frame.DataFrame'>\n",
            "Int64Index: 171068 entries, 0 to 285830\n",
            "Data columns (total 11 columns):\n",
            " #   Column             Non-Null Count   Dtype\n",
            "---  ------             --------------   -----\n",
            " 0   Jenis_Kelamin      171068 non-null  int64\n",
            " 1   Umur               171068 non-null  int64\n",
            " 2   SIM                171068 non-null  int64\n",
            " 3   Kode_Daerah        171068 non-null  int64\n",
            " 4   Sudah_Asuransi     171068 non-null  int64\n",
            " 5   Umur_Kendaraan     171068 non-null  int64\n",
            " 6   Kendaraan_Rusak    171068 non-null  int64\n",
            " 7   Premi              171068 non-null  int64\n",
            " 8   Kanal_Penjualan    171068 non-null  int64\n",
            " 9   Lama_Berlangganan  171068 non-null  int64\n",
            " 10  Tertarik           171068 non-null  int64\n",
            "dtypes: int64(11)\n",
            "memory usage: 15.7 MB\n"
          ],
          "name": "stdout"
        }
      ]
    },
    {
      "cell_type": "markdown",
      "metadata": {
        "id": "J7KIeXOjB31G"
      },
      "source": [
        "## Mini EDA"
      ]
    },
    {
      "cell_type": "markdown",
      "metadata": {
        "id": "cv-q1ho3B31G"
      },
      "source": [
        "#### Hypothesis Null\n",
        "\n",
        "- Jenis_Kelamin is corelated With Tertarik\n",
        "- Umur is correlated with Tertarik\n",
        "- SIM is correlated with Tertarik\n",
        "- Sudah_Asuransi is correlated with Tertarik\n",
        "- Umur_Kendaraan is correlated with Tertarik \n",
        "- Kendaraan_Rusak is correlated with Tertarik\n",
        "- Premi is correlated with Tertarik\n",
        "- Lama_Berlangganan is correlated with Tertarik"
      ]
    },
    {
      "cell_type": "code",
      "metadata": {
        "colab": {
          "base_uri": "https://localhost:8080/"
        },
        "id": "geGe_iDmB31G",
        "outputId": "9363af97-7993-4418-dacb-49e560b18f95"
      },
      "source": [
        "df['Jenis_Kelamin'].value_counts()\n",
        "\n",
        "# there are more Pria in this dataset compared to Wanita"
      ],
      "execution_count": 17,
      "outputs": [
        {
          "output_type": "execute_result",
          "data": {
            "text/plain": [
              "1    92490\n",
              "0    78578\n",
              "Name: Jenis_Kelamin, dtype: int64"
            ]
          },
          "metadata": {
            "tags": []
          },
          "execution_count": 17
        }
      ]
    },
    {
      "cell_type": "code",
      "metadata": {
        "colab": {
          "base_uri": "https://localhost:8080/",
          "height": 0
        },
        "id": "PDkoLGbuB31H",
        "outputId": "fca03ff0-7a6b-4d86-b069-39043789e3e6"
      },
      "source": [
        "pd.crosstab(index = df['Jenis_Kelamin'], columns = df['Tertarik'], normalize = 'index')\n",
        "\n",
        "# Dataset contain more male  than female so from perspective according to Jenis_Kelamin are equal"
      ],
      "execution_count": 18,
      "outputs": [
        {
          "output_type": "execute_result",
          "data": {
            "text/html": [
              "<div>\n",
              "<style scoped>\n",
              "    .dataframe tbody tr th:only-of-type {\n",
              "        vertical-align: middle;\n",
              "    }\n",
              "\n",
              "    .dataframe tbody tr th {\n",
              "        vertical-align: top;\n",
              "    }\n",
              "\n",
              "    .dataframe thead th {\n",
              "        text-align: right;\n",
              "    }\n",
              "</style>\n",
              "<table border=\"1\" class=\"dataframe\">\n",
              "  <thead>\n",
              "    <tr style=\"text-align: right;\">\n",
              "      <th>Tertarik</th>\n",
              "      <th>0</th>\n",
              "      <th>1</th>\n",
              "    </tr>\n",
              "    <tr>\n",
              "      <th>Jenis_Kelamin</th>\n",
              "      <th></th>\n",
              "      <th></th>\n",
              "    </tr>\n",
              "  </thead>\n",
              "  <tbody>\n",
              "    <tr>\n",
              "      <th>0</th>\n",
              "      <td>0.897465</td>\n",
              "      <td>0.102535</td>\n",
              "    </tr>\n",
              "    <tr>\n",
              "      <th>1</th>\n",
              "      <td>0.862245</td>\n",
              "      <td>0.137755</td>\n",
              "    </tr>\n",
              "  </tbody>\n",
              "</table>\n",
              "</div>"
            ],
            "text/plain": [
              "Tertarik              0         1\n",
              "Jenis_Kelamin                    \n",
              "0              0.897465  0.102535\n",
              "1              0.862245  0.137755"
            ]
          },
          "metadata": {
            "tags": []
          },
          "execution_count": 18
        }
      ]
    },
    {
      "cell_type": "code",
      "metadata": {
        "colab": {
          "base_uri": "https://localhost:8080/",
          "height": 0
        },
        "id": "B8MA7PbLB31H",
        "outputId": "b1b0bf69-f52f-44bf-9ae4-30d72e8c3357"
      },
      "source": [
        "pd.crosstab(index = df['Umur'], columns = df['Tertarik'], normalize = 'columns').sort_values(1, ascending = False)"
      ],
      "execution_count": 19,
      "outputs": [
        {
          "output_type": "execute_result",
          "data": {
            "text/html": [
              "<div>\n",
              "<style scoped>\n",
              "    .dataframe tbody tr th:only-of-type {\n",
              "        vertical-align: middle;\n",
              "    }\n",
              "\n",
              "    .dataframe tbody tr th {\n",
              "        vertical-align: top;\n",
              "    }\n",
              "\n",
              "    .dataframe thead th {\n",
              "        text-align: right;\n",
              "    }\n",
              "</style>\n",
              "<table border=\"1\" class=\"dataframe\">\n",
              "  <thead>\n",
              "    <tr style=\"text-align: right;\">\n",
              "      <th>Tertarik</th>\n",
              "      <th>0</th>\n",
              "      <th>1</th>\n",
              "    </tr>\n",
              "    <tr>\n",
              "      <th>Umur</th>\n",
              "      <th></th>\n",
              "      <th></th>\n",
              "    </tr>\n",
              "  </thead>\n",
              "  <tbody>\n",
              "    <tr>\n",
              "      <th>44</th>\n",
              "      <td>0.019798</td>\n",
              "      <td>0.039908</td>\n",
              "    </tr>\n",
              "    <tr>\n",
              "      <th>43</th>\n",
              "      <td>0.019265</td>\n",
              "      <td>0.039763</td>\n",
              "    </tr>\n",
              "    <tr>\n",
              "      <th>45</th>\n",
              "      <td>0.019219</td>\n",
              "      <td>0.037552</td>\n",
              "    </tr>\n",
              "    <tr>\n",
              "      <th>46</th>\n",
              "      <td>0.018500</td>\n",
              "      <td>0.035917</td>\n",
              "    </tr>\n",
              "    <tr>\n",
              "      <th>47</th>\n",
              "      <td>0.017176</td>\n",
              "      <td>0.034426</td>\n",
              "    </tr>\n",
              "    <tr>\n",
              "      <th>...</th>\n",
              "      <td>...</td>\n",
              "      <td>...</td>\n",
              "    </tr>\n",
              "    <tr>\n",
              "      <th>81</th>\n",
              "      <td>0.000200</td>\n",
              "      <td>0.000048</td>\n",
              "    </tr>\n",
              "    <tr>\n",
              "      <th>82</th>\n",
              "      <td>0.000093</td>\n",
              "      <td>0.000000</td>\n",
              "    </tr>\n",
              "    <tr>\n",
              "      <th>83</th>\n",
              "      <td>0.000073</td>\n",
              "      <td>0.000000</td>\n",
              "    </tr>\n",
              "    <tr>\n",
              "      <th>84</th>\n",
              "      <td>0.000040</td>\n",
              "      <td>0.000000</td>\n",
              "    </tr>\n",
              "    <tr>\n",
              "      <th>85</th>\n",
              "      <td>0.000033</td>\n",
              "      <td>0.000000</td>\n",
              "    </tr>\n",
              "  </tbody>\n",
              "</table>\n",
              "<p>66 rows × 2 columns</p>\n",
              "</div>"
            ],
            "text/plain": [
              "Tertarik         0         1\n",
              "Umur                        \n",
              "44        0.019798  0.039908\n",
              "43        0.019265  0.039763\n",
              "45        0.019219  0.037552\n",
              "46        0.018500  0.035917\n",
              "47        0.017176  0.034426\n",
              "...            ...       ...\n",
              "81        0.000200  0.000048\n",
              "82        0.000093  0.000000\n",
              "83        0.000073  0.000000\n",
              "84        0.000040  0.000000\n",
              "85        0.000033  0.000000\n",
              "\n",
              "[66 rows x 2 columns]"
            ]
          },
          "metadata": {
            "tags": []
          },
          "execution_count": 19
        }
      ]
    },
    {
      "cell_type": "code",
      "metadata": {
        "colab": {
          "base_uri": "https://localhost:8080/",
          "height": 0
        },
        "id": "RnM3u-MfB31I",
        "outputId": "52230341-4a0e-4680-b5e0-1e4711f91331"
      },
      "source": [
        "plt.figure(figsize = (20, 10))\n",
        "sns.countplot(df['Umur'], hue = df['Tertarik'])\n",
        "\n",
        "## people Umurs between from 38 to 50 are more likely to respond\n",
        "# while people Umurs between 20 to 30 are less likely to respond"
      ],
      "execution_count": 20,
      "outputs": [
        {
          "output_type": "stream",
          "text": [
            "/usr/local/lib/python3.7/dist-packages/seaborn/_decorators.py:43: FutureWarning: Pass the following variable as a keyword arg: x. From version 0.12, the only valid positional argument will be `data`, and passing other arguments without an explicit keyword will result in an error or misinterpretation.\n",
            "  FutureWarning\n"
          ],
          "name": "stderr"
        },
        {
          "output_type": "execute_result",
          "data": {
            "text/plain": [
              "<matplotlib.axes._subplots.AxesSubplot at 0x7f354e993fd0>"
            ]
          },
          "metadata": {
            "tags": []
          },
          "execution_count": 20
        },
        {
          "output_type": "display_data",
          "data": {
            "image/png": "[encoded data removed]",
            "text/plain": [
              "<Figure size 1440x720 with 1 Axes>"
            ]
          },
          "metadata": {
            "tags": [],
            "needs_background": "light"
          }
        }
      ]
    },
    {
      "cell_type": "code",
      "metadata": {
        "colab": {
          "base_uri": "https://localhost:8080/"
        },
        "id": "cS7L0YhtB31I",
        "outputId": "0783bb21-96a3-413a-8b8e-2e43c79b9bfe"
      },
      "source": [
        "df['SIM'].value_counts(normalize= True)\n",
        "# the number of people who doesn't have a SIM is very small in this dataset"
      ],
      "execution_count": 21,
      "outputs": [
        {
          "output_type": "execute_result",
          "data": {
            "text/plain": [
              "1    0.997931\n",
              "0    0.002069\n",
              "Name: SIM, dtype: float64"
            ]
          },
          "metadata": {
            "tags": []
          },
          "execution_count": 21
        }
      ]
    },
    {
      "cell_type": "code",
      "metadata": {
        "colab": {
          "base_uri": "https://localhost:8080/",
          "height": 0
        },
        "id": "zS1NNMfPB31I",
        "outputId": "9d92a6ae-e1f6-4361-fc13-5829d3600dfb"
      },
      "source": [
        "pd.crosstab(index = df['SIM'], columns = df['Tertarik'], normalize = 'index')\n",
        "# Since More most of the people has a SIM, majoriity of the Tertarik that say yes are from people who has SIM"
      ],
      "execution_count": 22,
      "outputs": [
        {
          "output_type": "execute_result",
          "data": {
            "text/html": [
              "<div>\n",
              "<style scoped>\n",
              "    .dataframe tbody tr th:only-of-type {\n",
              "        vertical-align: middle;\n",
              "    }\n",
              "\n",
              "    .dataframe tbody tr th {\n",
              "        vertical-align: top;\n",
              "    }\n",
              "\n",
              "    .dataframe thead th {\n",
              "        text-align: right;\n",
              "    }\n",
              "</style>\n",
              "<table border=\"1\" class=\"dataframe\">\n",
              "  <thead>\n",
              "    <tr style=\"text-align: right;\">\n",
              "      <th>Tertarik</th>\n",
              "      <th>0</th>\n",
              "      <th>1</th>\n",
              "    </tr>\n",
              "    <tr>\n",
              "      <th>SIM</th>\n",
              "      <th></th>\n",
              "      <th></th>\n",
              "    </tr>\n",
              "  </thead>\n",
              "  <tbody>\n",
              "    <tr>\n",
              "      <th>0</th>\n",
              "      <td>0.940678</td>\n",
              "      <td>0.059322</td>\n",
              "    </tr>\n",
              "    <tr>\n",
              "      <th>1</th>\n",
              "      <td>0.878294</td>\n",
              "      <td>0.121706</td>\n",
              "    </tr>\n",
              "  </tbody>\n",
              "</table>\n",
              "</div>"
            ],
            "text/plain": [
              "Tertarik         0         1\n",
              "SIM                         \n",
              "0         0.940678  0.059322\n",
              "1         0.878294  0.121706"
            ]
          },
          "metadata": {
            "tags": []
          },
          "execution_count": 22
        }
      ]
    },
    {
      "cell_type": "code",
      "metadata": {
        "colab": {
          "base_uri": "https://localhost:8080/"
        },
        "id": "pTKO3blWB31J",
        "outputId": "de871cca-9fe9-4613-954e-7fe6c45d2547"
      },
      "source": [
        "df['Sudah_Asuransi'].value_counts(normalize = True)"
      ],
      "execution_count": 23,
      "outputs": [
        {
          "output_type": "execute_result",
          "data": {
            "text/plain": [
              "0    0.540206\n",
              "1    0.459794\n",
              "Name: Sudah_Asuransi, dtype: float64"
            ]
          },
          "metadata": {
            "tags": []
          },
          "execution_count": 23
        }
      ]
    },
    {
      "cell_type": "code",
      "metadata": {
        "colab": {
          "base_uri": "https://localhost:8080/",
          "height": 0
        },
        "id": "pMDfKBegB31J",
        "outputId": "b7859ffb-22ab-4997-fc5b-f3fede7bb29a"
      },
      "source": [
        "pd.crosstab(index = df['Sudah_Asuransi'], columns = df['Tertarik'], normalize = 'index')\n",
        "\n",
        "# people who previously Insured are less likely to Tertarik compared to people who was not previously insured"
      ],
      "execution_count": 24,
      "outputs": [
        {
          "output_type": "execute_result",
          "data": {
            "text/html": [
              "<div>\n",
              "<style scoped>\n",
              "    .dataframe tbody tr th:only-of-type {\n",
              "        vertical-align: middle;\n",
              "    }\n",
              "\n",
              "    .dataframe tbody tr th {\n",
              "        vertical-align: top;\n",
              "    }\n",
              "\n",
              "    .dataframe thead th {\n",
              "        text-align: right;\n",
              "    }\n",
              "</style>\n",
              "<table border=\"1\" class=\"dataframe\">\n",
              "  <thead>\n",
              "    <tr style=\"text-align: right;\">\n",
              "      <th>Tertarik</th>\n",
              "      <th>0</th>\n",
              "      <th>1</th>\n",
              "    </tr>\n",
              "    <tr>\n",
              "      <th>Sudah_Asuransi</th>\n",
              "      <th></th>\n",
              "      <th></th>\n",
              "    </tr>\n",
              "  </thead>\n",
              "  <tbody>\n",
              "    <tr>\n",
              "      <th>0</th>\n",
              "      <td>0.77570</td>\n",
              "      <td>0.22430</td>\n",
              "    </tr>\n",
              "    <tr>\n",
              "      <th>1</th>\n",
              "      <td>0.99911</td>\n",
              "      <td>0.00089</td>\n",
              "    </tr>\n",
              "  </tbody>\n",
              "</table>\n",
              "</div>"
            ],
            "text/plain": [
              "Tertarik              0        1\n",
              "Sudah_Asuransi                  \n",
              "0               0.77570  0.22430\n",
              "1               0.99911  0.00089"
            ]
          },
          "metadata": {
            "tags": []
          },
          "execution_count": 24
        }
      ]
    },
    {
      "cell_type": "code",
      "metadata": {
        "colab": {
          "base_uri": "https://localhost:8080/",
          "height": 0
        },
        "id": "Nk8o8-Y0B31J",
        "outputId": "81ffbff3-7e30-4ea9-c9e8-dff8ff1a8a90"
      },
      "source": [
        "pd.crosstab(index = df['Umur_Kendaraan'], columns = df['Tertarik'], normalize = 'columns')\n",
        "\n",
        "# 0  = Vehicle Umur < 1 year\n",
        "# 1 = Vehicle Umur 1 - 2 year\n",
        "# 2 = Vehicle Umur > 2 years\n",
        "\n",
        "# people that has vehicle for more than 2 years are more likely to Tertarik \n",
        "# people whos has newer vehicle are less likely to Tertarik "
      ],
      "execution_count": 25,
      "outputs": [
        {
          "output_type": "execute_result",
          "data": {
            "text/html": [
              "<div>\n",
              "<style scoped>\n",
              "    .dataframe tbody tr th:only-of-type {\n",
              "        vertical-align: middle;\n",
              "    }\n",
              "\n",
              "    .dataframe tbody tr th {\n",
              "        vertical-align: top;\n",
              "    }\n",
              "\n",
              "    .dataframe thead th {\n",
              "        text-align: right;\n",
              "    }\n",
              "</style>\n",
              "<table border=\"1\" class=\"dataframe\">\n",
              "  <thead>\n",
              "    <tr style=\"text-align: right;\">\n",
              "      <th>Tertarik</th>\n",
              "      <th>0</th>\n",
              "      <th>1</th>\n",
              "    </tr>\n",
              "    <tr>\n",
              "      <th>Umur_Kendaraan</th>\n",
              "      <th></th>\n",
              "      <th></th>\n",
              "    </tr>\n",
              "  </thead>\n",
              "  <tbody>\n",
              "    <tr>\n",
              "      <th>0</th>\n",
              "      <td>0.472556</td>\n",
              "      <td>0.154871</td>\n",
              "    </tr>\n",
              "    <tr>\n",
              "      <th>1</th>\n",
              "      <td>0.493698</td>\n",
              "      <td>0.744062</td>\n",
              "    </tr>\n",
              "    <tr>\n",
              "      <th>2</th>\n",
              "      <td>0.033746</td>\n",
              "      <td>0.101067</td>\n",
              "    </tr>\n",
              "  </tbody>\n",
              "</table>\n",
              "</div>"
            ],
            "text/plain": [
              "Tertarik               0         1\n",
              "Umur_Kendaraan                    \n",
              "0               0.472556  0.154871\n",
              "1               0.493698  0.744062\n",
              "2               0.033746  0.101067"
            ]
          },
          "metadata": {
            "tags": []
          },
          "execution_count": 25
        }
      ]
    },
    {
      "cell_type": "code",
      "metadata": {
        "colab": {
          "base_uri": "https://localhost:8080/",
          "height": 0
        },
        "id": "CZ8C-9q_B31J",
        "outputId": "ceefa6fd-1b78-4ea7-e286-092648ffce1c"
      },
      "source": [
        "pd.crosstab(index = df['Kendaraan_Rusak'], columns = df['Tertarik'], normalize = 'index')\n",
        "\n",
        "# People who has a Kendaraan_Rusak are more likely to Tertarik since they know the concequences\n",
        "# People who don't have a Kendaraan_Rusak Are less likely to Tertarik "
      ],
      "execution_count": 26,
      "outputs": [
        {
          "output_type": "execute_result",
          "data": {
            "text/html": [
              "<div>\n",
              "<style scoped>\n",
              "    .dataframe tbody tr th:only-of-type {\n",
              "        vertical-align: middle;\n",
              "    }\n",
              "\n",
              "    .dataframe tbody tr th {\n",
              "        vertical-align: top;\n",
              "    }\n",
              "\n",
              "    .dataframe thead th {\n",
              "        text-align: right;\n",
              "    }\n",
              "</style>\n",
              "<table border=\"1\" class=\"dataframe\">\n",
              "  <thead>\n",
              "    <tr style=\"text-align: right;\">\n",
              "      <th>Tertarik</th>\n",
              "      <th>0</th>\n",
              "      <th>1</th>\n",
              "    </tr>\n",
              "    <tr>\n",
              "      <th>Kendaraan_Rusak</th>\n",
              "      <th></th>\n",
              "      <th></th>\n",
              "    </tr>\n",
              "  </thead>\n",
              "  <tbody>\n",
              "    <tr>\n",
              "      <th>0</th>\n",
              "      <td>0.994939</td>\n",
              "      <td>0.005061</td>\n",
              "    </tr>\n",
              "    <tr>\n",
              "      <th>1</th>\n",
              "      <td>0.763958</td>\n",
              "      <td>0.236042</td>\n",
              "    </tr>\n",
              "  </tbody>\n",
              "</table>\n",
              "</div>"
            ],
            "text/plain": [
              "Tertarik                0         1\n",
              "Kendaraan_Rusak                    \n",
              "0                0.994939  0.005061\n",
              "1                0.763958  0.236042"
            ]
          },
          "metadata": {
            "tags": []
          },
          "execution_count": 26
        }
      ]
    },
    {
      "cell_type": "code",
      "metadata": {
        "colab": {
          "base_uri": "https://localhost:8080/",
          "height": 0
        },
        "id": "ERG0aRXyB31K",
        "outputId": "5dfffa85-72a8-4ff2-a5aa-563a8f9951a7"
      },
      "source": [
        "pd.crosstab(index = df['Tertarik'], columns = 'Test', values = df['Premi'], aggfunc = 'median')"
      ],
      "execution_count": 27,
      "outputs": [
        {
          "output_type": "execute_result",
          "data": {
            "text/html": [
              "<div>\n",
              "<style scoped>\n",
              "    .dataframe tbody tr th:only-of-type {\n",
              "        vertical-align: middle;\n",
              "    }\n",
              "\n",
              "    .dataframe tbody tr th {\n",
              "        vertical-align: top;\n",
              "    }\n",
              "\n",
              "    .dataframe thead th {\n",
              "        text-align: right;\n",
              "    }\n",
              "</style>\n",
              "<table border=\"1\" class=\"dataframe\">\n",
              "  <thead>\n",
              "    <tr style=\"text-align: right;\">\n",
              "      <th>col_0</th>\n",
              "      <th>Test</th>\n",
              "    </tr>\n",
              "    <tr>\n",
              "      <th>Tertarik</th>\n",
              "      <th></th>\n",
              "    </tr>\n",
              "  </thead>\n",
              "  <tbody>\n",
              "    <tr>\n",
              "      <th>0</th>\n",
              "      <td>31437</td>\n",
              "    </tr>\n",
              "    <tr>\n",
              "      <th>1</th>\n",
              "      <td>32984</td>\n",
              "    </tr>\n",
              "  </tbody>\n",
              "</table>\n",
              "</div>"
            ],
            "text/plain": [
              "col_0      Test\n",
              "Tertarik       \n",
              "0         31437\n",
              "1         32984"
            ]
          },
          "metadata": {
            "tags": []
          },
          "execution_count": 27
        }
      ]
    },
    {
      "cell_type": "code",
      "metadata": {
        "colab": {
          "base_uri": "https://localhost:8080/",
          "height": 0
        },
        "id": "xrqyTThRB31K",
        "outputId": "2333ffbf-560c-4589-f906-3cb8e31afbc4"
      },
      "source": [
        "sns.barplot(x = df['Umur_Kendaraan'], y= df['Tertarik'], hue = df['Kendaraan_Rusak'])\n",
        "\n",
        "# Customer who has more than 2 years car Umur has a more likely to have Kendaraan_Rusak and more likely to Tertarik to vehicle insurance\n",
        "# Customer who has a Kendaraan_Rusak are more like to Tertarik to Insurance as well"
      ],
      "execution_count": 28,
      "outputs": [
        {
          "output_type": "execute_result",
          "data": {
            "text/plain": [
              "<matplotlib.axes._subplots.AxesSubplot at 0x7f35584cec10>"
            ]
          },
          "metadata": {
            "tags": []
          },
          "execution_count": 28
        },
        {
          "output_type": "display_data",
          "data": {
            "image/png": "[encoded data removed]",
            "text/plain": [
              "<Figure size 432x288 with 1 Axes>"
            ]
          },
          "metadata": {
            "tags": [],
            "needs_background": "light"
          }
        }
      ]
    },
    {
      "cell_type": "code",
      "metadata": {
        "colab": {
          "base_uri": "https://localhost:8080/",
          "height": 0
        },
        "id": "Cm_8qPdtB31K",
        "outputId": "b0c73119-d026-4a23-d1cf-24afe72caffa"
      },
      "source": [
        "sns.barplot(x = df['Sudah_Asuransi'], y = df['Tertarik'])\n",
        "\n",
        "# Customer who was not previously insured are more likely to respond  to the vehicle insurance compared to the customer who was previously insured"
      ],
      "execution_count": 29,
      "outputs": [
        {
          "output_type": "execute_result",
          "data": {
            "text/plain": [
              "<matplotlib.axes._subplots.AxesSubplot at 0x7f354e5bf990>"
            ]
          },
          "metadata": {
            "tags": []
          },
          "execution_count": 29
        },
        {
          "output_type": "display_data",
          "data": {
            "image/png": "[encoded data removed]",
            "text/plain": [
              "<Figure size 432x288 with 1 Axes>"
            ]
          },
          "metadata": {
            "tags": [],
            "needs_background": "light"
          }
        }
      ]
    },
    {
      "cell_type": "code",
      "metadata": {
        "colab": {
          "base_uri": "https://localhost:8080/",
          "height": 0
        },
        "id": "menwtlX-B31K",
        "outputId": "213a52a9-f7c3-4170-d877-b0aea62f7839"
      },
      "source": [
        "sns.barplot(x = 'Tertarik', y ='Premi', data = df)\n",
        "\n",
        "# People who Tertarik have slightly higher annual premium "
      ],
      "execution_count": 30,
      "outputs": [
        {
          "output_type": "execute_result",
          "data": {
            "text/plain": [
              "<matplotlib.axes._subplots.AxesSubplot at 0x7f354e58f290>"
            ]
          },
          "metadata": {
            "tags": []
          },
          "execution_count": 30
        },
        {
          "output_type": "display_data",
          "data": {
            "image/png": "[encoded data removed]",
            "text/plain": [
              "<Figure size 432x288 with 1 Axes>"
            ]
          },
          "metadata": {
            "tags": [],
            "needs_background": "light"
          }
        }
      ]
    },
    {
      "cell_type": "code",
      "metadata": {
        "colab": {
          "base_uri": "https://localhost:8080/"
        },
        "id": "_vpF_3H7B31K",
        "outputId": "5ee041a1-dd7e-4f9e-d20e-e041352d3593"
      },
      "source": [
        "df['Tertarik'].value_counts(normalize = True)\n",
        "\n",
        "# This Data has more not 'tertarik'"
      ],
      "execution_count": 31,
      "outputs": [
        {
          "output_type": "execute_result",
          "data": {
            "text/plain": [
              "0    0.878423\n",
              "1    0.121577\n",
              "Name: Tertarik, dtype: float64"
            ]
          },
          "metadata": {
            "tags": []
          },
          "execution_count": 31
        }
      ]
    },
    {
      "cell_type": "markdown",
      "metadata": {
        "id": "wAlej4c-B31L"
      },
      "source": [
        "#### Correlation "
      ]
    },
    {
      "cell_type": "code",
      "metadata": {
        "colab": {
          "base_uri": "https://localhost:8080/",
          "height": 0
        },
        "id": "zQagVmYXB31L",
        "outputId": "e50c7f71-d625-4476-8a6a-32a47f917359"
      },
      "source": [
        "plt.figure(figsize = (20, 8))\n",
        "sns.heatmap(df.corr(), annot = True)"
      ],
      "execution_count": 32,
      "outputs": [
        {
          "output_type": "execute_result",
          "data": {
            "text/plain": [
              "<matplotlib.axes._subplots.AxesSubplot at 0x7f354e55e0d0>"
            ]
          },
          "metadata": {
            "tags": []
          },
          "execution_count": 32
        },
        {
          "output_type": "display_data",
          "data": {
            "image/png": "[encoded data removed]",
            "text/plain": [
              "<Figure size 1440x576 with 2 Axes>"
            ]
          },
          "metadata": {
            "tags": [],
            "needs_background": "light"
          }
        }
      ]
    },
    {
      "cell_type": "code",
      "metadata": {
        "colab": {
          "base_uri": "https://localhost:8080/"
        },
        "id": "A69Qk57wB31L",
        "outputId": "2fc83d8a-4c20-49e3-ad50-2e71a4ba1099"
      },
      "source": [
        "correlation = df.corr()\n",
        "correlation['Tertarik'].sort_values(ascending = False)[1:]\n",
        "\n",
        "# Sorting Column Correlation "
      ],
      "execution_count": 33,
      "outputs": [
        {
          "output_type": "execute_result",
          "data": {
            "text/plain": [
              "Kendaraan_Rusak      0.353388\n",
              "Umur_Kendaraan       0.221659\n",
              "Umur                 0.108912\n",
              "Jenis_Kelamin        0.053709\n",
              "Premi                0.021890\n",
              "Kode_Daerah          0.011152\n",
              "SIM                  0.008675\n",
              "Lama_Berlangganan    0.002143\n",
              "Kanal_Penjualan     -0.140968\n",
              "Sudah_Asuransi      -0.340711\n",
              "Name: Tertarik, dtype: float64"
            ]
          },
          "metadata": {
            "tags": []
          },
          "execution_count": 33
        }
      ]
    },
    {
      "cell_type": "markdown",
      "metadata": {
        "id": "njgyYDzuB31L"
      },
      "source": [
        "#### Feature Selection, Spliting, and Scaling"
      ]
    },
    {
      "cell_type": "code",
      "metadata": {
        "id": "qpeIOoTVB31L"
      },
      "source": [
        "features = ['Umur',\t'Sudah_Asuransi',\t'Umur_Kendaraan',\t'Kendaraan_Rusak',\t'Premi']"
      ],
      "execution_count": 34,
      "outputs": []
    },
    {
      "cell_type": "code",
      "metadata": {
        "colab": {
          "base_uri": "https://localhost:8080/",
          "height": 0
        },
        "id": "noZlg9WKB31M",
        "outputId": "57ebb79c-40a3-4c4d-9b3b-aa7fd185454d"
      },
      "source": [
        "train_feat_scale = StandardScaler().fit_transform(df_train[features])\n",
        "X_train = pd.DataFrame(data = train_feat_scale, columns=features)\n",
        "X_train"
      ],
      "execution_count": 35,
      "outputs": [
        {
          "output_type": "execute_result",
          "data": {
            "text/html": [
              "<div>\n",
              "<style scoped>\n",
              "    .dataframe tbody tr th:only-of-type {\n",
              "        vertical-align: middle;\n",
              "    }\n",
              "\n",
              "    .dataframe tbody tr th {\n",
              "        vertical-align: top;\n",
              "    }\n",
              "\n",
              "    .dataframe thead th {\n",
              "        text-align: right;\n",
              "    }\n",
              "</style>\n",
              "<table border=\"1\" class=\"dataframe\">\n",
              "  <thead>\n",
              "    <tr style=\"text-align: right;\">\n",
              "      <th></th>\n",
              "      <th>Umur</th>\n",
              "      <th>Sudah_Asuransi</th>\n",
              "      <th>Umur_Kendaraan</th>\n",
              "      <th>Kendaraan_Rusak</th>\n",
              "      <th>Premi</th>\n",
              "    </tr>\n",
              "  </thead>\n",
              "  <tbody>\n",
              "    <tr>\n",
              "      <th>0</th>\n",
              "      <td>-0.567753</td>\n",
              "      <td>1.083923</td>\n",
              "      <td>-1.071127</td>\n",
              "      <td>-1.008925</td>\n",
              "      <td>-0.144979</td>\n",
              "    </tr>\n",
              "    <tr>\n",
              "      <th>1</th>\n",
              "      <td>0.591171</td>\n",
              "      <td>-0.922575</td>\n",
              "      <td>2.452328</td>\n",
              "      <td>0.991154</td>\n",
              "      <td>-0.275404</td>\n",
              "    </tr>\n",
              "    <tr>\n",
              "      <th>2</th>\n",
              "      <td>1.235018</td>\n",
              "      <td>-0.922575</td>\n",
              "      <td>0.690601</td>\n",
              "      <td>-1.008925</td>\n",
              "      <td>-1.631139</td>\n",
              "    </tr>\n",
              "    <tr>\n",
              "      <th>3</th>\n",
              "      <td>-1.147215</td>\n",
              "      <td>1.083923</td>\n",
              "      <td>-1.071127</td>\n",
              "      <td>-1.008925</td>\n",
              "      <td>-0.454745</td>\n",
              "    </tr>\n",
              "    <tr>\n",
              "      <th>4</th>\n",
              "      <td>-1.211599</td>\n",
              "      <td>1.083923</td>\n",
              "      <td>-1.071127</td>\n",
              "      <td>-1.008925</td>\n",
              "      <td>0.016340</td>\n",
              "    </tr>\n",
              "    <tr>\n",
              "      <th>...</th>\n",
              "      <td>...</td>\n",
              "      <td>...</td>\n",
              "      <td>...</td>\n",
              "      <td>...</td>\n",
              "      <td>...</td>\n",
              "    </tr>\n",
              "    <tr>\n",
              "      <th>171063</th>\n",
              "      <td>-1.018445</td>\n",
              "      <td>1.083923</td>\n",
              "      <td>-1.071127</td>\n",
              "      <td>-1.008925</td>\n",
              "      <td>-0.264403</td>\n",
              "    </tr>\n",
              "    <tr>\n",
              "      <th>171064</th>\n",
              "      <td>-1.147215</td>\n",
              "      <td>1.083923</td>\n",
              "      <td>-1.071127</td>\n",
              "      <td>-1.008925</td>\n",
              "      <td>0.829664</td>\n",
              "    </tr>\n",
              "    <tr>\n",
              "      <th>171065</th>\n",
              "      <td>-1.018445</td>\n",
              "      <td>1.083923</td>\n",
              "      <td>-1.071127</td>\n",
              "      <td>-1.008925</td>\n",
              "      <td>1.126030</td>\n",
              "    </tr>\n",
              "    <tr>\n",
              "      <th>171066</th>\n",
              "      <td>1.878864</td>\n",
              "      <td>1.083923</td>\n",
              "      <td>0.690601</td>\n",
              "      <td>-1.008925</td>\n",
              "      <td>-0.000219</td>\n",
              "    </tr>\n",
              "    <tr>\n",
              "      <th>171067</th>\n",
              "      <td>0.398017</td>\n",
              "      <td>-0.922575</td>\n",
              "      <td>0.690601</td>\n",
              "      <td>0.991154</td>\n",
              "      <td>0.349510</td>\n",
              "    </tr>\n",
              "  </tbody>\n",
              "</table>\n",
              "<p>171068 rows × 5 columns</p>\n",
              "</div>"
            ],
            "text/plain": [
              "            Umur  Sudah_Asuransi  Umur_Kendaraan  Kendaraan_Rusak     Premi\n",
              "0      -0.567753        1.083923       -1.071127        -1.008925 -0.144979\n",
              "1       0.591171       -0.922575        2.452328         0.991154 -0.275404\n",
              "2       1.235018       -0.922575        0.690601        -1.008925 -1.631139\n",
              "3      -1.147215        1.083923       -1.071127        -1.008925 -0.454745\n",
              "4      -1.211599        1.083923       -1.071127        -1.008925  0.016340\n",
              "...          ...             ...             ...              ...       ...\n",
              "171063 -1.018445        1.083923       -1.071127        -1.008925 -0.264403\n",
              "171064 -1.147215        1.083923       -1.071127        -1.008925  0.829664\n",
              "171065 -1.018445        1.083923       -1.071127        -1.008925  1.126030\n",
              "171066  1.878864        1.083923        0.690601        -1.008925 -0.000219\n",
              "171067  0.398017       -0.922575        0.690601         0.991154  0.349510\n",
              "\n",
              "[171068 rows x 5 columns]"
            ]
          },
          "metadata": {
            "tags": []
          },
          "execution_count": 35
        }
      ]
    },
    {
      "cell_type": "code",
      "metadata": {
        "colab": {
          "base_uri": "https://localhost:8080/",
          "height": 0
        },
        "id": "M6tjAaZZB31M",
        "outputId": "ba934e0b-7560-464d-b04f-954e74e411bb"
      },
      "source": [
        "test_feat_scale = StandardScaler().fit_transform(df_test[features])\n",
        "X_test = pd.DataFrame(data = test_feat_scale, columns=features)\n",
        "X_test"
      ],
      "execution_count": 36,
      "outputs": [
        {
          "output_type": "execute_result",
          "data": {
            "text/html": [
              "<div>\n",
              "<style scoped>\n",
              "    .dataframe tbody tr th:only-of-type {\n",
              "        vertical-align: middle;\n",
              "    }\n",
              "\n",
              "    .dataframe tbody tr th {\n",
              "        vertical-align: top;\n",
              "    }\n",
              "\n",
              "    .dataframe thead th {\n",
              "        text-align: right;\n",
              "    }\n",
              "</style>\n",
              "<table border=\"1\" class=\"dataframe\">\n",
              "  <thead>\n",
              "    <tr style=\"text-align: right;\">\n",
              "      <th></th>\n",
              "      <th>Umur</th>\n",
              "      <th>Sudah_Asuransi</th>\n",
              "      <th>Umur_Kendaraan</th>\n",
              "      <th>Kendaraan_Rusak</th>\n",
              "      <th>Premi</th>\n",
              "    </tr>\n",
              "  </thead>\n",
              "  <tbody>\n",
              "    <tr>\n",
              "      <th>0</th>\n",
              "      <td>0.655011</td>\n",
              "      <td>-0.918524</td>\n",
              "      <td>0.692517</td>\n",
              "      <td>0.990744</td>\n",
              "      <td>0.938632</td>\n",
              "    </tr>\n",
              "    <tr>\n",
              "      <th>1</th>\n",
              "      <td>-1.081474</td>\n",
              "      <td>1.088703</td>\n",
              "      <td>-1.070660</td>\n",
              "      <td>-1.009343</td>\n",
              "      <td>0.516962</td>\n",
              "    </tr>\n",
              "    <tr>\n",
              "      <th>2</th>\n",
              "      <td>-0.952846</td>\n",
              "      <td>1.088703</td>\n",
              "      <td>-1.070660</td>\n",
              "      <td>-1.009343</td>\n",
              "      <td>4.588010</td>\n",
              "    </tr>\n",
              "    <tr>\n",
              "      <th>3</th>\n",
              "      <td>0.462068</td>\n",
              "      <td>1.088703</td>\n",
              "      <td>0.692517</td>\n",
              "      <td>-1.009343</td>\n",
              "      <td>0.324024</td>\n",
              "    </tr>\n",
              "    <tr>\n",
              "      <th>4</th>\n",
              "      <td>-0.245389</td>\n",
              "      <td>-0.918524</td>\n",
              "      <td>0.692517</td>\n",
              "      <td>0.990744</td>\n",
              "      <td>-0.210489</td>\n",
              "    </tr>\n",
              "    <tr>\n",
              "      <th>...</th>\n",
              "      <td>...</td>\n",
              "      <td>...</td>\n",
              "      <td>...</td>\n",
              "      <td>...</td>\n",
              "      <td>...</td>\n",
              "    </tr>\n",
              "    <tr>\n",
              "      <th>47634</th>\n",
              "      <td>1.426782</td>\n",
              "      <td>-0.918524</td>\n",
              "      <td>2.455694</td>\n",
              "      <td>0.990744</td>\n",
              "      <td>0.023702</td>\n",
              "    </tr>\n",
              "    <tr>\n",
              "      <th>47635</th>\n",
              "      <td>0.140497</td>\n",
              "      <td>-0.918524</td>\n",
              "      <td>0.692517</td>\n",
              "      <td>0.990744</td>\n",
              "      <td>-1.608567</td>\n",
              "    </tr>\n",
              "    <tr>\n",
              "      <th>47636</th>\n",
              "      <td>-0.952846</td>\n",
              "      <td>1.088703</td>\n",
              "      <td>-1.070660</td>\n",
              "      <td>-1.009343</td>\n",
              "      <td>0.142176</td>\n",
              "    </tr>\n",
              "    <tr>\n",
              "      <th>47637</th>\n",
              "      <td>1.298153</td>\n",
              "      <td>-0.918524</td>\n",
              "      <td>0.692517</td>\n",
              "      <td>0.990744</td>\n",
              "      <td>0.411473</td>\n",
              "    </tr>\n",
              "    <tr>\n",
              "      <th>47638</th>\n",
              "      <td>0.847953</td>\n",
              "      <td>-0.918524</td>\n",
              "      <td>0.692517</td>\n",
              "      <td>-1.009343</td>\n",
              "      <td>-1.608567</td>\n",
              "    </tr>\n",
              "  </tbody>\n",
              "</table>\n",
              "<p>47639 rows × 5 columns</p>\n",
              "</div>"
            ],
            "text/plain": [
              "           Umur  Sudah_Asuransi  Umur_Kendaraan  Kendaraan_Rusak     Premi\n",
              "0      0.655011       -0.918524        0.692517         0.990744  0.938632\n",
              "1     -1.081474        1.088703       -1.070660        -1.009343  0.516962\n",
              "2     -0.952846        1.088703       -1.070660        -1.009343  4.588010\n",
              "3      0.462068        1.088703        0.692517        -1.009343  0.324024\n",
              "4     -0.245389       -0.918524        0.692517         0.990744 -0.210489\n",
              "...         ...             ...             ...              ...       ...\n",
              "47634  1.426782       -0.918524        2.455694         0.990744  0.023702\n",
              "47635  0.140497       -0.918524        0.692517         0.990744 -1.608567\n",
              "47636 -0.952846        1.088703       -1.070660        -1.009343  0.142176\n",
              "47637  1.298153       -0.918524        0.692517         0.990744  0.411473\n",
              "47638  0.847953       -0.918524        0.692517        -1.009343 -1.608567\n",
              "\n",
              "[47639 rows x 5 columns]"
            ]
          },
          "metadata": {
            "tags": []
          },
          "execution_count": 36
        }
      ]
    },
    {
      "cell_type": "code",
      "metadata": {
        "colab": {
          "base_uri": "https://localhost:8080/"
        },
        "id": "tv3yGpzaB31M",
        "outputId": "e945dfc9-a28f-4fb4-e6dc-5733023f29d4"
      },
      "source": [
        "y_train = df_train['Tertarik']\n",
        "y_train"
      ],
      "execution_count": 37,
      "outputs": [
        {
          "output_type": "execute_result",
          "data": {
            "text/plain": [
              "0         0\n",
              "1         0\n",
              "3         0\n",
              "5         0\n",
              "8         0\n",
              "         ..\n",
              "285826    0\n",
              "285827    0\n",
              "285828    0\n",
              "285829    0\n",
              "285830    0\n",
              "Name: Tertarik, Length: 171068, dtype: int64"
            ]
          },
          "metadata": {
            "tags": []
          },
          "execution_count": 37
        }
      ]
    },
    {
      "cell_type": "code",
      "metadata": {
        "colab": {
          "base_uri": "https://localhost:8080/"
        },
        "id": "o2g-faZWB31M",
        "outputId": "bf9075d6-30c0-4092-e360-0335b6199e9b"
      },
      "source": [
        "y_test = df_test['Tertarik']\n",
        "y_test"
      ],
      "execution_count": 38,
      "outputs": [
        {
          "output_type": "execute_result",
          "data": {
            "text/plain": [
              "0        0\n",
              "1        0\n",
              "2        0\n",
              "3        0\n",
              "4        0\n",
              "        ..\n",
              "47634    0\n",
              "47635    0\n",
              "47636    0\n",
              "47637    1\n",
              "47638    0\n",
              "Name: Tertarik, Length: 47639, dtype: int64"
            ]
          },
          "metadata": {
            "tags": []
          },
          "execution_count": 38
        }
      ]
    },
    {
      "cell_type": "markdown",
      "metadata": {
        "id": "f8_RGmbDj7-4"
      },
      "source": [
        "# **Classification**\n",
        "\n",
        "Now all the step on data preprocessing is finish, the next phase is we do our **classification**\n",
        "\n",
        "in this phase we do the classification using 3 classifier.\n",
        "1. Naive Bayes (Gaussian)\n",
        "2. KNN\n",
        "3. Decision tree"
      ]
    },
    {
      "cell_type": "markdown",
      "metadata": {
        "id": "HtQRK_mJkACN"
      },
      "source": [
        "The first classifier is **Naive bayes**"
      ]
    },
    {
      "cell_type": "code",
      "metadata": {
        "colab": {
          "base_uri": "https://localhost:8080/"
        },
        "id": "xsYjm_pgj12o",
        "outputId": "b602f85a-8774-4902-d197-c9477dba1cba"
      },
      "source": [
        "#using Gaussian Naive Bayes to predict the class\n",
        "gnb = GaussianNB()\n",
        "gnb.fit(X_train, y_train)\n",
        "y_pred_NB = gnb.predict(X_test)\n",
        "#return the prediction\n",
        "y_pred_NB"
      ],
      "execution_count": 39,
      "outputs": [
        {
          "output_type": "execute_result",
          "data": {
            "text/plain": [
              "array([1, 0, 0, ..., 0, 1, 0])"
            ]
          },
          "metadata": {
            "tags": []
          },
          "execution_count": 39
        }
      ]
    },
    {
      "cell_type": "markdown",
      "metadata": {
        "id": "-fBKOyMmCk3Z"
      },
      "source": [
        "The second classifier is **K Nearest Neighbord (KNN)**"
      ]
    },
    {
      "cell_type": "code",
      "metadata": {
        "colab": {
          "base_uri": "https://localhost:8080/"
        },
        "id": "0ygYpMqFCjei",
        "outputId": "6dfb6d1e-9743-444e-ba64-a2293f9ac15b"
      },
      "source": [
        "#using the knn to predict the class\n",
        "model_knn = KNeighborsClassifier(n_neighbors=5)\n",
        "model_knn.fit(X_train, y_train)\n",
        "y_pred_KNN = model_knn.predict(X_test)\n",
        "#return the prediction\n",
        "y_pred_KNN"
      ],
      "execution_count": 40,
      "outputs": [
        {
          "output_type": "execute_result",
          "data": {
            "text/plain": [
              "array([0, 0, 0, ..., 0, 0, 0])"
            ]
          },
          "metadata": {
            "tags": []
          },
          "execution_count": 40
        }
      ]
    },
    {
      "cell_type": "markdown",
      "metadata": {
        "id": "QPYxMNJxkORW"
      },
      "source": [
        "The third classifier is **Decision Tree**"
      ]
    },
    {
      "cell_type": "code",
      "metadata": {
        "colab": {
          "base_uri": "https://localhost:8080/"
        },
        "id": "2g92dnywkHyx",
        "outputId": "b77b50fb-a14f-4b27-d21c-5fea7f1f5c4c"
      },
      "source": [
        "#using the decision tree to predict the class\n",
        "model_dt = DecisionTreeClassifier(criterion='entropy')\n",
        "model_dt.fit(X_train,y_train)\n",
        "y_pred_DT = model_dt.predict(X_test)\n",
        "#return the prediction\n",
        "y_pred_DT"
      ],
      "execution_count": 41,
      "outputs": [
        {
          "output_type": "execute_result",
          "data": {
            "text/plain": [
              "array([0, 0, 0, ..., 0, 0, 0])"
            ]
          },
          "metadata": {
            "tags": []
          },
          "execution_count": 41
        }
      ]
    },
    {
      "cell_type": "markdown",
      "metadata": {
        "id": "XlAM4JEYE8DJ"
      },
      "source": [
        "**Print the result class**\n",
        "\n",
        "note : the value of the class label (transmission column) is has 2 values (0, 1)"
      ]
    },
    {
      "cell_type": "code",
      "metadata": {
        "colab": {
          "base_uri": "https://localhost:8080/",
          "height": 419
        },
        "id": "GDL0ctXylJNA",
        "outputId": "b95d8601-6568-428d-f81a-619bf926cd03"
      },
      "source": [
        "y_true = y_test\n",
        "result_class = pd.DataFrame({\n",
        "    'Actual Labels': y_true,\n",
        "    'Naive Bayes': y_pred_NB,\n",
        "    'KNN' : y_pred_KNN,\n",
        "    'Decision Tree' : y_pred_DT\n",
        "})\n",
        "\n",
        "result_class"
      ],
      "execution_count": 42,
      "outputs": [
        {
          "output_type": "execute_result",
          "data": {
            "text/html": [
              "<div>\n",
              "<style scoped>\n",
              "    .dataframe tbody tr th:only-of-type {\n",
              "        vertical-align: middle;\n",
              "    }\n",
              "\n",
              "    .dataframe tbody tr th {\n",
              "        vertical-align: top;\n",
              "    }\n",
              "\n",
              "    .dataframe thead th {\n",
              "        text-align: right;\n",
              "    }\n",
              "</style>\n",
              "<table border=\"1\" class=\"dataframe\">\n",
              "  <thead>\n",
              "    <tr style=\"text-align: right;\">\n",
              "      <th></th>\n",
              "      <th>Actual Labels</th>\n",
              "      <th>Naive Bayes</th>\n",
              "      <th>KNN</th>\n",
              "      <th>Decision Tree</th>\n",
              "    </tr>\n",
              "  </thead>\n",
              "  <tbody>\n",
              "    <tr>\n",
              "      <th>0</th>\n",
              "      <td>0</td>\n",
              "      <td>1</td>\n",
              "      <td>0</td>\n",
              "      <td>0</td>\n",
              "    </tr>\n",
              "    <tr>\n",
              "      <th>1</th>\n",
              "      <td>0</td>\n",
              "      <td>0</td>\n",
              "      <td>0</td>\n",
              "      <td>0</td>\n",
              "    </tr>\n",
              "    <tr>\n",
              "      <th>2</th>\n",
              "      <td>0</td>\n",
              "      <td>0</td>\n",
              "      <td>0</td>\n",
              "      <td>0</td>\n",
              "    </tr>\n",
              "    <tr>\n",
              "      <th>3</th>\n",
              "      <td>0</td>\n",
              "      <td>0</td>\n",
              "      <td>0</td>\n",
              "      <td>0</td>\n",
              "    </tr>\n",
              "    <tr>\n",
              "      <th>4</th>\n",
              "      <td>0</td>\n",
              "      <td>1</td>\n",
              "      <td>0</td>\n",
              "      <td>0</td>\n",
              "    </tr>\n",
              "    <tr>\n",
              "      <th>...</th>\n",
              "      <td>...</td>\n",
              "      <td>...</td>\n",
              "      <td>...</td>\n",
              "      <td>...</td>\n",
              "    </tr>\n",
              "    <tr>\n",
              "      <th>47634</th>\n",
              "      <td>0</td>\n",
              "      <td>1</td>\n",
              "      <td>0</td>\n",
              "      <td>0</td>\n",
              "    </tr>\n",
              "    <tr>\n",
              "      <th>47635</th>\n",
              "      <td>0</td>\n",
              "      <td>1</td>\n",
              "      <td>0</td>\n",
              "      <td>0</td>\n",
              "    </tr>\n",
              "    <tr>\n",
              "      <th>47636</th>\n",
              "      <td>0</td>\n",
              "      <td>0</td>\n",
              "      <td>0</td>\n",
              "      <td>0</td>\n",
              "    </tr>\n",
              "    <tr>\n",
              "      <th>47637</th>\n",
              "      <td>1</td>\n",
              "      <td>1</td>\n",
              "      <td>0</td>\n",
              "      <td>0</td>\n",
              "    </tr>\n",
              "    <tr>\n",
              "      <th>47638</th>\n",
              "      <td>0</td>\n",
              "      <td>0</td>\n",
              "      <td>0</td>\n",
              "      <td>0</td>\n",
              "    </tr>\n",
              "  </tbody>\n",
              "</table>\n",
              "<p>47639 rows × 4 columns</p>\n",
              "</div>"
            ],
            "text/plain": [
              "       Actual Labels  Naive Bayes  KNN  Decision Tree\n",
              "0                  0            1    0              0\n",
              "1                  0            0    0              0\n",
              "2                  0            0    0              0\n",
              "3                  0            0    0              0\n",
              "4                  0            1    0              0\n",
              "...              ...          ...  ...            ...\n",
              "47634              0            1    0              0\n",
              "47635              0            1    0              0\n",
              "47636              0            0    0              0\n",
              "47637              1            1    0              0\n",
              "47638              0            0    0              0\n",
              "\n",
              "[47639 rows x 4 columns]"
            ]
          },
          "metadata": {
            "tags": []
          },
          "execution_count": 42
        }
      ]
    },
    {
      "cell_type": "code",
      "metadata": {
        "colab": {
          "base_uri": "https://localhost:8080/",
          "height": 111
        },
        "id": "9CiPsT1PB31R",
        "outputId": "5435e5fd-48f9-4049-a7a8-628f3f1bbc2b"
      },
      "source": [
        "result_count = pd.DataFrame({\n",
        "    'Actual labels': result_class['Actual Labels'].value_counts(),\n",
        "    'Naive Bayes': result_class['Naive Bayes'].value_counts(),\n",
        "    'KNN' : result_class['KNN'].value_counts(),\n",
        "    'Decision Tree' : result_class['Decision Tree'].value_counts()\n",
        "})\n",
        "\n",
        "result_count"
      ],
      "execution_count": 43,
      "outputs": [
        {
          "output_type": "execute_result",
          "data": {
            "text/html": [
              "<div>\n",
              "<style scoped>\n",
              "    .dataframe tbody tr th:only-of-type {\n",
              "        vertical-align: middle;\n",
              "    }\n",
              "\n",
              "    .dataframe tbody tr th {\n",
              "        vertical-align: top;\n",
              "    }\n",
              "\n",
              "    .dataframe thead th {\n",
              "        text-align: right;\n",
              "    }\n",
              "</style>\n",
              "<table border=\"1\" class=\"dataframe\">\n",
              "  <thead>\n",
              "    <tr style=\"text-align: right;\">\n",
              "      <th></th>\n",
              "      <th>Actual labels</th>\n",
              "      <th>Naive Bayes</th>\n",
              "      <th>KNN</th>\n",
              "      <th>Decision Tree</th>\n",
              "    </tr>\n",
              "  </thead>\n",
              "  <tbody>\n",
              "    <tr>\n",
              "      <th>0</th>\n",
              "      <td>41778</td>\n",
              "      <td>24836</td>\n",
              "      <td>44746</td>\n",
              "      <td>42879</td>\n",
              "    </tr>\n",
              "    <tr>\n",
              "      <th>1</th>\n",
              "      <td>5861</td>\n",
              "      <td>22803</td>\n",
              "      <td>2893</td>\n",
              "      <td>4760</td>\n",
              "    </tr>\n",
              "  </tbody>\n",
              "</table>\n",
              "</div>"
            ],
            "text/plain": [
              "   Actual labels  Naive Bayes    KNN  Decision Tree\n",
              "0          41778        24836  44746          42879\n",
              "1           5861        22803   2893           4760"
            ]
          },
          "metadata": {
            "tags": []
          },
          "execution_count": 43
        }
      ]
    },
    {
      "cell_type": "markdown",
      "metadata": {
        "id": "7z61MlPskmcd"
      },
      "source": [
        "# **Accuracy**\n",
        "\n",
        "in this phase we calculate the **Accuraccy, Confussion Matrix, Precision, Recall,F1-Score, Support** of every model. "
      ]
    },
    {
      "cell_type": "markdown",
      "metadata": {
        "id": "4-ZXnJVnkrE5"
      },
      "source": [
        "**Naive Bayes**"
      ]
    },
    {
      "cell_type": "code",
      "metadata": {
        "colab": {
          "base_uri": "https://localhost:8080/",
          "height": 333
        },
        "id": "OFrWr4N5kZp3",
        "outputId": "29618f5d-27b3-42ea-b7a3-4d42dec897e0"
      },
      "source": [
        "# print the Confusion Matrix, Acuracy Score, and Report (precision, recallm f1-score, support)\n",
        "results_NB = confusion_matrix(y_true, y_pred_NB)\n",
        "print(results_NB)\n",
        "print('Confusion Matrix Naive Bayes Classifier :')\n",
        "cm_NB = pd.DataFrame(data = results_NB, index = [\"Actual 1\",\"Actual 0\"], columns = [\"Prediction 1\", \"Prediction 0\"])\n",
        "sns.heatmap(cm_NB, annot = True)"
      ],
      "execution_count": 44,
      "outputs": [
        {
          "output_type": "stream",
          "text": [
            "[[24694 17084]\n",
            " [  142  5719]]\n",
            "Confusion Matrix Naive Bayes Classifier :\n"
          ],
          "name": "stdout"
        },
        {
          "output_type": "execute_result",
          "data": {
            "text/plain": [
              "<matplotlib.axes._subplots.AxesSubplot at 0x7f354cb0b810>"
            ]
          },
          "metadata": {
            "tags": []
          },
          "execution_count": 44
        },
        {
          "output_type": "display_data",
          "data": {
            "image/png": "[encoded data removed]",
            "text/plain": [
              "<Figure size 432x288 with 2 Axes>"
            ]
          },
          "metadata": {
            "tags": [],
            "needs_background": "light"
          }
        }
      ]
    },
    {
      "cell_type": "code",
      "metadata": {
        "colab": {
          "base_uri": "https://localhost:8080/"
        },
        "id": "2N_3mPwLB31O",
        "outputId": "896e7686-9501-43b1-efba-6abf9d50d6b2"
      },
      "source": [
        "acc_NB = accuracy_score(y_test, y_pred_NB)\n",
        "prec_NB = precision_score(y_test, y_pred_NB)\n",
        "rec_NB = recall_score(y_test, y_pred_NB)\n",
        "f1_NB = f1_score(y_test,y_pred_NB)\n",
        "\n",
        "print('Report : ')\n",
        "print(classification_report(y_true, y_pred_NB))"
      ],
      "execution_count": 45,
      "outputs": [
        {
          "output_type": "stream",
          "text": [
            "Report : \n",
            "              precision    recall  f1-score   support\n",
            "\n",
            "           0       0.99      0.59      0.74     41778\n",
            "           1       0.25      0.98      0.40      5861\n",
            "\n",
            "    accuracy                           0.64     47639\n",
            "   macro avg       0.62      0.78      0.57     47639\n",
            "weighted avg       0.90      0.64      0.70     47639\n",
            "\n"
          ],
          "name": "stdout"
        }
      ]
    },
    {
      "cell_type": "markdown",
      "metadata": {
        "id": "Cd_8Xl9Ek4V4"
      },
      "source": [
        "**KNN**"
      ]
    },
    {
      "cell_type": "code",
      "metadata": {
        "colab": {
          "base_uri": "https://localhost:8080/",
          "height": 333
        },
        "id": "9ZRTYlDVk6Vq",
        "outputId": "817c209e-6c5a-481f-e459-bf115e4e8af9"
      },
      "source": [
        "#print the Confusion Matrix, Acuracy Score, and Report (precision, recallm f1-score, support)\n",
        "results_KNN = confusion_matrix(y_true, y_pred_KNN)\n",
        "print(results_KNN)\n",
        "print('Confusion Matrix :')\n",
        "cm_KNN = pd.DataFrame(data = results_KNN, index = [\"Actual 1\",\"Actual 0\"], columns = [\"Prediction 1\", \"Prediction 0\"])\n",
        "sns.heatmap(cm_KNN, annot = True)"
      ],
      "execution_count": 46,
      "outputs": [
        {
          "output_type": "stream",
          "text": [
            "[[39808  1970]\n",
            " [ 4938   923]]\n",
            "Confusion Matrix :\n"
          ],
          "name": "stdout"
        },
        {
          "output_type": "execute_result",
          "data": {
            "text/plain": [
              "<matplotlib.axes._subplots.AxesSubplot at 0x7f354ca92c50>"
            ]
          },
          "metadata": {
            "tags": []
          },
          "execution_count": 46
        },
        {
          "output_type": "display_data",
          "data": {
            "image/png": "[encoded data removed]",
            "text/plain": [
              "<Figure size 432x288 with 2 Axes>"
            ]
          },
          "metadata": {
            "tags": [],
            "needs_background": "light"
          }
        }
      ]
    },
    {
      "cell_type": "code",
      "metadata": {
        "colab": {
          "base_uri": "https://localhost:8080/"
        },
        "id": "lLit7cuuB31P",
        "outputId": "562b1673-862c-4683-bc24-6a857bc9be1e"
      },
      "source": [
        "acc_KNN = accuracy_score(y_test, y_pred_KNN)\n",
        "prec_KNN = precision_score(y_test, y_pred_KNN)\n",
        "rec_KNN = recall_score(y_test, y_pred_KNN)\n",
        "f1_KNN = f1_score(y_test,y_pred_KNN)\n",
        "\n",
        "print('Report : ')\n",
        "print(classification_report(y_true, y_pred_KNN))"
      ],
      "execution_count": 47,
      "outputs": [
        {
          "output_type": "stream",
          "text": [
            "Report : \n",
            "              precision    recall  f1-score   support\n",
            "\n",
            "           0       0.89      0.95      0.92     41778\n",
            "           1       0.32      0.16      0.21      5861\n",
            "\n",
            "    accuracy                           0.85     47639\n",
            "   macro avg       0.60      0.56      0.57     47639\n",
            "weighted avg       0.82      0.85      0.83     47639\n",
            "\n"
          ],
          "name": "stdout"
        }
      ]
    },
    {
      "cell_type": "markdown",
      "metadata": {
        "id": "_mHADvpbDDNa"
      },
      "source": [
        "**Decision Tree**"
      ]
    },
    {
      "cell_type": "code",
      "metadata": {
        "colab": {
          "base_uri": "https://localhost:8080/",
          "height": 333
        },
        "id": "sCS1_iSwDBUB",
        "outputId": "b265482f-6cb4-4496-8cad-ccddf405bb87"
      },
      "source": [
        "# print the Confusion Matrix, Acuracy Score, and Report (precision, recallm f1-score, support)\n",
        "results_DT = confusion_matrix(y_true, y_pred_DT)\n",
        "print(results_DT)\n",
        "print('Confusion Matrix :')\n",
        "cm_DT = pd.DataFrame(data = results_DT, index = [\"Actual 1\",\"Actual 0\"], columns = [\"Prediction 1\", \"Prediction 0\"])\n",
        "sns.heatmap(cm_DT, annot = True)"
      ],
      "execution_count": 48,
      "outputs": [
        {
          "output_type": "stream",
          "text": [
            "[[38404  3374]\n",
            " [ 4475  1386]]\n",
            "Confusion Matrix :\n"
          ],
          "name": "stdout"
        },
        {
          "output_type": "execute_result",
          "data": {
            "text/plain": [
              "<matplotlib.axes._subplots.AxesSubplot at 0x7f354e3aed90>"
            ]
          },
          "metadata": {
            "tags": []
          },
          "execution_count": 48
        },
        {
          "output_type": "display_data",
          "data": {
            "image/png": "[encoded data removed]",
            "text/plain": [
              "<Figure size 432x288 with 2 Axes>"
            ]
          },
          "metadata": {
            "tags": [],
            "needs_background": "light"
          }
        }
      ]
    },
    {
      "cell_type": "code",
      "metadata": {
        "colab": {
          "base_uri": "https://localhost:8080/"
        },
        "id": "k1368B9wB31Q",
        "outputId": "222f2dfb-ea1d-4a01-e04e-6792c146b38a"
      },
      "source": [
        "acc_DT = accuracy_score(y_test, y_pred_DT)\n",
        "prec_DT = precision_score(y_test, y_pred_DT)\n",
        "rec_DT = recall_score(y_test, y_pred_DT)\n",
        "f1_DT = f1_score(y_test,y_pred_DT)\n",
        "\n",
        "print('Report : ')\n",
        "print(classification_report(y_true, y_pred_DT))"
      ],
      "execution_count": 49,
      "outputs": [
        {
          "output_type": "stream",
          "text": [
            "Report : \n",
            "              precision    recall  f1-score   support\n",
            "\n",
            "           0       0.90      0.92      0.91     41778\n",
            "           1       0.29      0.24      0.26      5861\n",
            "\n",
            "    accuracy                           0.84     47639\n",
            "   macro avg       0.59      0.58      0.58     47639\n",
            "weighted avg       0.82      0.84      0.83     47639\n",
            "\n"
          ],
          "name": "stdout"
        }
      ]
    },
    {
      "cell_type": "code",
      "metadata": {
        "colab": {
          "base_uri": "https://localhost:8080/",
          "height": 173
        },
        "id": "nRm7zUi9B31Q",
        "outputId": "644f0e97-96a2-413d-805e-f992485d1700"
      },
      "source": [
        "eva_mat = {\n",
        "    \"Naive Bayes\": [acc_NB, prec_NB, rec_NB, f1_NB],\n",
        "    \"KNN\": [acc_KNN, prec_KNN, rec_KNN, f1_KNN],\n",
        "    \"Decision Tree\": [acc_DT, prec_DT, rec_DT, f1_DT]\n",
        "    }\n",
        "\n",
        "evaluation = pd.DataFrame(data = eva_mat, index = ['Accuracy', 'Precision', 'Recall', 'F1-Score'])\n",
        "evaluation"
      ],
      "execution_count": 50,
      "outputs": [
        {
          "output_type": "execute_result",
          "data": {
            "text/html": [
              "<div>\n",
              "<style scoped>\n",
              "    .dataframe tbody tr th:only-of-type {\n",
              "        vertical-align: middle;\n",
              "    }\n",
              "\n",
              "    .dataframe tbody tr th {\n",
              "        vertical-align: top;\n",
              "    }\n",
              "\n",
              "    .dataframe thead th {\n",
              "        text-align: right;\n",
              "    }\n",
              "</style>\n",
              "<table border=\"1\" class=\"dataframe\">\n",
              "  <thead>\n",
              "    <tr style=\"text-align: right;\">\n",
              "      <th></th>\n",
              "      <th>Naive Bayes</th>\n",
              "      <th>KNN</th>\n",
              "      <th>Decision Tree</th>\n",
              "    </tr>\n",
              "  </thead>\n",
              "  <tbody>\n",
              "    <tr>\n",
              "      <th>Accuracy</th>\n",
              "      <td>0.638406</td>\n",
              "      <td>0.854993</td>\n",
              "      <td>0.835240</td>\n",
              "    </tr>\n",
              "    <tr>\n",
              "      <th>Precision</th>\n",
              "      <td>0.250800</td>\n",
              "      <td>0.319046</td>\n",
              "      <td>0.291176</td>\n",
              "    </tr>\n",
              "    <tr>\n",
              "      <th>Recall</th>\n",
              "      <td>0.975772</td>\n",
              "      <td>0.157482</td>\n",
              "      <td>0.236478</td>\n",
              "    </tr>\n",
              "    <tr>\n",
              "      <th>F1-Score</th>\n",
              "      <td>0.399037</td>\n",
              "      <td>0.210875</td>\n",
              "      <td>0.260992</td>\n",
              "    </tr>\n",
              "  </tbody>\n",
              "</table>\n",
              "</div>"
            ],
            "text/plain": [
              "           Naive Bayes       KNN  Decision Tree\n",
              "Accuracy      0.638406  0.854993       0.835240\n",
              "Precision     0.250800  0.319046       0.291176\n",
              "Recall        0.975772  0.157482       0.236478\n",
              "F1-Score      0.399037  0.210875       0.260992"
            ]
          },
          "metadata": {
            "tags": []
          },
          "execution_count": 50
        }
      ]
    },
    {
      "cell_type": "code",
      "metadata": {
        "colab": {
          "base_uri": "https://localhost:8080/",
          "height": 419
        },
        "id": "Frs7y4p5heNk",
        "outputId": "98a0b280-31f6-4ef2-933e-cce2619373c3"
      },
      "source": [
        "# concat the classification result\n",
        "df1 = df_test[features].reset_index(drop=True)\n",
        "df2 = result_class.reset_index(drop=True)\n",
        "df_processed = pd.concat([df1, df2],axis=1)\n",
        "df_processed"
      ],
      "execution_count": 51,
      "outputs": [
        {
          "output_type": "execute_result",
          "data": {
            "text/html": [
              "<div>\n",
              "<style scoped>\n",
              "    .dataframe tbody tr th:only-of-type {\n",
              "        vertical-align: middle;\n",
              "    }\n",
              "\n",
              "    .dataframe tbody tr th {\n",
              "        vertical-align: top;\n",
              "    }\n",
              "\n",
              "    .dataframe thead th {\n",
              "        text-align: right;\n",
              "    }\n",
              "</style>\n",
              "<table border=\"1\" class=\"dataframe\">\n",
              "  <thead>\n",
              "    <tr style=\"text-align: right;\">\n",
              "      <th></th>\n",
              "      <th>Umur</th>\n",
              "      <th>Sudah_Asuransi</th>\n",
              "      <th>Umur_Kendaraan</th>\n",
              "      <th>Kendaraan_Rusak</th>\n",
              "      <th>Premi</th>\n",
              "      <th>Actual Labels</th>\n",
              "      <th>Naive Bayes</th>\n",
              "      <th>KNN</th>\n",
              "      <th>Decision Tree</th>\n",
              "    </tr>\n",
              "  </thead>\n",
              "  <tbody>\n",
              "    <tr>\n",
              "      <th>0</th>\n",
              "      <td>49</td>\n",
              "      <td>0</td>\n",
              "      <td>1</td>\n",
              "      <td>1</td>\n",
              "      <td>46963</td>\n",
              "      <td>0</td>\n",
              "      <td>1</td>\n",
              "      <td>0</td>\n",
              "      <td>0</td>\n",
              "    </tr>\n",
              "    <tr>\n",
              "      <th>1</th>\n",
              "      <td>22</td>\n",
              "      <td>1</td>\n",
              "      <td>0</td>\n",
              "      <td>0</td>\n",
              "      <td>39624</td>\n",
              "      <td>0</td>\n",
              "      <td>0</td>\n",
              "      <td>0</td>\n",
              "      <td>0</td>\n",
              "    </tr>\n",
              "    <tr>\n",
              "      <th>2</th>\n",
              "      <td>24</td>\n",
              "      <td>1</td>\n",
              "      <td>0</td>\n",
              "      <td>0</td>\n",
              "      <td>110479</td>\n",
              "      <td>0</td>\n",
              "      <td>0</td>\n",
              "      <td>0</td>\n",
              "      <td>0</td>\n",
              "    </tr>\n",
              "    <tr>\n",
              "      <th>3</th>\n",
              "      <td>46</td>\n",
              "      <td>1</td>\n",
              "      <td>1</td>\n",
              "      <td>0</td>\n",
              "      <td>36266</td>\n",
              "      <td>0</td>\n",
              "      <td>0</td>\n",
              "      <td>0</td>\n",
              "      <td>0</td>\n",
              "    </tr>\n",
              "    <tr>\n",
              "      <th>4</th>\n",
              "      <td>35</td>\n",
              "      <td>0</td>\n",
              "      <td>1</td>\n",
              "      <td>1</td>\n",
              "      <td>26963</td>\n",
              "      <td>0</td>\n",
              "      <td>1</td>\n",
              "      <td>0</td>\n",
              "      <td>0</td>\n",
              "    </tr>\n",
              "    <tr>\n",
              "      <th>...</th>\n",
              "      <td>...</td>\n",
              "      <td>...</td>\n",
              "      <td>...</td>\n",
              "      <td>...</td>\n",
              "      <td>...</td>\n",
              "      <td>...</td>\n",
              "      <td>...</td>\n",
              "      <td>...</td>\n",
              "      <td>...</td>\n",
              "    </tr>\n",
              "    <tr>\n",
              "      <th>47634</th>\n",
              "      <td>61</td>\n",
              "      <td>0</td>\n",
              "      <td>2</td>\n",
              "      <td>1</td>\n",
              "      <td>31039</td>\n",
              "      <td>0</td>\n",
              "      <td>1</td>\n",
              "      <td>0</td>\n",
              "      <td>0</td>\n",
              "    </tr>\n",
              "    <tr>\n",
              "      <th>47635</th>\n",
              "      <td>41</td>\n",
              "      <td>0</td>\n",
              "      <td>1</td>\n",
              "      <td>1</td>\n",
              "      <td>2630</td>\n",
              "      <td>0</td>\n",
              "      <td>1</td>\n",
              "      <td>0</td>\n",
              "      <td>0</td>\n",
              "    </tr>\n",
              "    <tr>\n",
              "      <th>47636</th>\n",
              "      <td>24</td>\n",
              "      <td>1</td>\n",
              "      <td>0</td>\n",
              "      <td>0</td>\n",
              "      <td>33101</td>\n",
              "      <td>0</td>\n",
              "      <td>0</td>\n",
              "      <td>0</td>\n",
              "      <td>0</td>\n",
              "    </tr>\n",
              "    <tr>\n",
              "      <th>47637</th>\n",
              "      <td>59</td>\n",
              "      <td>0</td>\n",
              "      <td>1</td>\n",
              "      <td>1</td>\n",
              "      <td>37788</td>\n",
              "      <td>1</td>\n",
              "      <td>1</td>\n",
              "      <td>0</td>\n",
              "      <td>0</td>\n",
              "    </tr>\n",
              "    <tr>\n",
              "      <th>47638</th>\n",
              "      <td>52</td>\n",
              "      <td>0</td>\n",
              "      <td>1</td>\n",
              "      <td>0</td>\n",
              "      <td>2630</td>\n",
              "      <td>0</td>\n",
              "      <td>0</td>\n",
              "      <td>0</td>\n",
              "      <td>0</td>\n",
              "    </tr>\n",
              "  </tbody>\n",
              "</table>\n",
              "<p>47639 rows × 9 columns</p>\n",
              "</div>"
            ],
            "text/plain": [
              "       Umur  Sudah_Asuransi  Umur_Kendaraan  ...  Naive Bayes  KNN  Decision Tree\n",
              "0        49               0               1  ...            1    0              0\n",
              "1        22               1               0  ...            0    0              0\n",
              "2        24               1               0  ...            0    0              0\n",
              "3        46               1               1  ...            0    0              0\n",
              "4        35               0               1  ...            1    0              0\n",
              "...     ...             ...             ...  ...          ...  ...            ...\n",
              "47634    61               0               2  ...            1    0              0\n",
              "47635    41               0               1  ...            1    0              0\n",
              "47636    24               1               0  ...            0    0              0\n",
              "47637    59               0               1  ...            1    0              0\n",
              "47638    52               0               1  ...            0    0              0\n",
              "\n",
              "[47639 rows x 9 columns]"
            ]
          },
          "metadata": {
            "tags": []
          },
          "execution_count": 51
        }
      ]
    },
    {
      "cell_type": "code",
      "metadata": {
        "id": "gT7Eg9LOhfCP"
      },
      "source": [
        "# export the processed dataset into csv file\n",
        "df_processed.to_csv('export_classification_kendaraan.csv', index=True, header=True)"
      ],
      "execution_count": 52,
      "outputs": []
    }
  ]
}